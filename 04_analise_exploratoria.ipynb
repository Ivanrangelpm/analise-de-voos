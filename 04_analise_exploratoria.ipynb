{
 "cells": [
  {
   "cell_type": "code",
   "execution_count": 21,
   "id": "e8cf5947",
   "metadata": {},
   "outputs": [],
   "source": [
    "import math\n",
    "import pandas as pd\n",
    "import os\n",
    "import numpy as np\n",
    "import seaborn as sns\n",
    "import matplotlib.pyplot as plt"
   ]
  },
  {
   "cell_type": "code",
   "execution_count": 22,
   "id": "04d520ce",
   "metadata": {},
   "outputs": [],
   "source": [
    "df_voos = pd.read_csv(\"dados/refined/voos_sp_rj_2406_2412.csv\", sep=\",\")"
   ]
  },
  {
   "cell_type": "code",
   "execution_count": 23,
   "id": "3901dc42",
   "metadata": {},
   "outputs": [
    {
     "data": {
      "application/vnd.microsoft.datawrangler.viewer.v0+json": {
       "columns": [
        {
         "name": "index",
         "rawType": "int64",
         "type": "integer"
        },
        {
         "name": "SIGLA ICAO EMPRESA AEREA",
         "rawType": "object",
         "type": "string"
        },
        {
         "name": "EMPRESA AEREA",
         "rawType": "object",
         "type": "string"
        },
        {
         "name": "NUMERO VOO",
         "rawType": "object",
         "type": "string"
        },
        {
         "name": "CODIGO DI",
         "rawType": "int64",
         "type": "integer"
        },
        {
         "name": "CODIGO TIPO LINHA",
         "rawType": "object",
         "type": "string"
        },
        {
         "name": "MODELO EQUIPAMENTO",
         "rawType": "object",
         "type": "string"
        },
        {
         "name": "NUMERO DE ASSENTOS",
         "rawType": "float64",
         "type": "float"
        },
        {
         "name": "SIGLA AEROPORTO ORIGEM",
         "rawType": "object",
         "type": "string"
        },
        {
         "name": "PARTIDA PREVISTA",
         "rawType": "object",
         "type": "string"
        },
        {
         "name": "PARTIDA REAL",
         "rawType": "object",
         "type": "string"
        },
        {
         "name": "SIGLA AEROPORTO DESTINO",
         "rawType": "object",
         "type": "string"
        },
        {
         "name": "CHEGADA PREVISTA",
         "rawType": "object",
         "type": "string"
        },
        {
         "name": "CHEGADA REAL",
         "rawType": "object",
         "type": "string"
        },
        {
         "name": "SITUACAO VOO",
         "rawType": "object",
         "type": "string"
        },
        {
         "name": "JUSTIFICATIVA",
         "rawType": "object",
         "type": "string"
        },
        {
         "name": "REFERENCIA",
         "rawType": "object",
         "type": "string"
        },
        {
         "name": "SITUACAO PARTIDA",
         "rawType": "object",
         "type": "string"
        },
        {
         "name": "SITUACAO CHEGADA",
         "rawType": "object",
         "type": "string"
        },
        {
         "name": "CODIGO OACI_x",
         "rawType": "object",
         "type": "string"
        },
        {
         "name": "CIAD ORIG",
         "rawType": "object",
         "type": "string"
        },
        {
         "name": "NOME ORIG",
         "rawType": "object",
         "type": "string"
        },
        {
         "name": "MUNICIPIO ORIG",
         "rawType": "object",
         "type": "string"
        },
        {
         "name": "UF ORIG",
         "rawType": "object",
         "type": "string"
        },
        {
         "name": "LATITUDE ORIG",
         "rawType": "float64",
         "type": "float"
        },
        {
         "name": "LONGITUDE ORIG",
         "rawType": "float64",
         "type": "float"
        },
        {
         "name": "CODIGO OACI_y",
         "rawType": "object",
         "type": "string"
        },
        {
         "name": "CIAD DEST",
         "rawType": "object",
         "type": "string"
        },
        {
         "name": "NOME DEST",
         "rawType": "object",
         "type": "string"
        },
        {
         "name": "MUNICIPIO DEST",
         "rawType": "object",
         "type": "string"
        },
        {
         "name": "UF DEST",
         "rawType": "object",
         "type": "string"
        },
        {
         "name": "LATITUDE DEST",
         "rawType": "float64",
         "type": "float"
        },
        {
         "name": "LONGITUDE DEST",
         "rawType": "float64",
         "type": "float"
        },
        {
         "name": "DISTANCIA KM",
         "rawType": "float64",
         "type": "float"
        },
        {
         "name": "HORA PARTIDA REAL",
         "rawType": "object",
         "type": "string"
        },
        {
         "name": "CLUSTER_HORA",
         "rawType": "float64",
         "type": "float"
        },
        {
         "name": "AQO",
         "rawType": "float64",
         "type": "float"
        }
       ],
       "ref": "2e887bda-dee7-4556-b7d8-11e9c3123833",
       "rows": [
        [
         "0",
         "ACN",
         "AZUL CONECTA LTDA",
         "5121",
         "0",
         "N",
         "C208",
         "9.0",
         "SBSP",
         "01/06/2024 06:25",
         "2024-06-01 06:20:00",
         "SBJR",
         "01/06/2024 08:00",
         "01/06/2024 07:57",
         "REALIZADO",
         "NAN",
         "01/06/2024",
         "ANTECIPADO",
         "ANTECIPADO",
         "SBSP",
         "SP0001",
         "SAO PAULO/CONGONHAS - DEPUTADO FREITAS NOBRE",
         "SAO PAULO",
         "SP",
         "-23.62611111111111",
         "-46.65638888888888",
         "SBJR",
         "RJ0005",
         "JACAREPAGUA - ROBERTO MARINHO",
         "RIO DE JANEIRO",
         "RJ",
         "-22.9875",
         "-43.37",
         "343.0309146717754",
         "06:20:00",
         "4.0",
         "3087.2782320459787"
        ],
        [
         "1",
         "ACN",
         "AZUL CONECTA LTDA",
         "5232",
         "0",
         "N",
         "C208",
         "9.0",
         "SBSP",
         "01/06/2024 10:45",
         "2024-06-01 10:40:00",
         "SBJR",
         "01/06/2024 12:15",
         "01/06/2024 12:12",
         "REALIZADO",
         "NAN",
         "01/06/2024",
         "ANTECIPADO",
         "ANTECIPADO",
         "SBSP",
         "SP0001",
         "SAO PAULO/CONGONHAS - DEPUTADO FREITAS NOBRE",
         "SAO PAULO",
         "SP",
         "-23.62611111111111",
         "-46.65638888888888",
         "SBJR",
         "RJ0005",
         "JACAREPAGUA - ROBERTO MARINHO",
         "RIO DE JANEIRO",
         "RJ",
         "-22.9875",
         "-43.37",
         "343.0309146717754",
         "10:40:00",
         "6.0",
         "3087.2782320459787"
        ],
        [
         "2",
         "ACN",
         "AZUL CONECTA LTDA",
         "5114",
         "0",
         "N",
         "C208",
         "9.0",
         "SBSP",
         "02/06/2024 15:40",
         "2024-06-02 15:38:00",
         "SBJR",
         "02/06/2024 17:15",
         "02/06/2024 17:07",
         "REALIZADO",
         "NAN",
         "02/06/2024",
         "ANTECIPADO",
         "ANTECIPADO",
         "SBSP",
         "SP0001",
         "SAO PAULO/CONGONHAS - DEPUTADO FREITAS NOBRE",
         "SAO PAULO",
         "SP",
         "-23.62611111111111",
         "-46.65638888888888",
         "SBJR",
         "RJ0005",
         "JACAREPAGUA - ROBERTO MARINHO",
         "RIO DE JANEIRO",
         "RJ",
         "-22.9875",
         "-43.37",
         "343.0309146717754",
         "15:38:00",
         "8.0",
         "3087.2782320459787"
        ],
        [
         "3",
         "ACN",
         "AZUL CONECTA LTDA",
         "5220",
         "0",
         "N",
         "C208",
         "9.0",
         "SBSP",
         "02/06/2024 13:40",
         "2024-06-02 13:33:00",
         "SBJR",
         "02/06/2024 15:10",
         "02/06/2024 15:06",
         "REALIZADO",
         "NAN",
         "02/06/2024",
         "ANTECIPADO",
         "ANTECIPADO",
         "SBSP",
         "SP0001",
         "SAO PAULO/CONGONHAS - DEPUTADO FREITAS NOBRE",
         "SAO PAULO",
         "SP",
         "-23.62611111111111",
         "-46.65638888888888",
         "SBJR",
         "RJ0005",
         "JACAREPAGUA - ROBERTO MARINHO",
         "RIO DE JANEIRO",
         "RJ",
         "-22.9875",
         "-43.37",
         "343.0309146717754",
         "13:33:00",
         "7.0",
         "3087.2782320459787"
        ],
        [
         "4",
         "ACN",
         "AZUL CONECTA LTDA",
         "5226",
         "0",
         "N",
         "C208",
         "9.0",
         "SBSP",
         "02/06/2024 20:10",
         "2024-06-02 20:17:00",
         "SBJR",
         "02/06/2024 21:40",
         "02/06/2024 21:45",
         "REALIZADO",
         "NAN",
         "02/06/2024",
         "PONTUAL",
         "PONTUAL",
         "SBSP",
         "SP0001",
         "SAO PAULO/CONGONHAS - DEPUTADO FREITAS NOBRE",
         "SAO PAULO",
         "SP",
         "-23.62611111111111",
         "-46.65638888888888",
         "SBJR",
         "RJ0005",
         "JACAREPAGUA - ROBERTO MARINHO",
         "RIO DE JANEIRO",
         "RJ",
         "-22.9875",
         "-43.37",
         "343.0309146717754",
         "20:17:00",
         "11.0",
         "3087.2782320459787"
        ]
       ],
       "shape": {
        "columns": 36,
        "rows": 5
       }
      },
      "text/html": [
       "<div>\n",
       "<style scoped>\n",
       "    .dataframe tbody tr th:only-of-type {\n",
       "        vertical-align: middle;\n",
       "    }\n",
       "\n",
       "    .dataframe tbody tr th {\n",
       "        vertical-align: top;\n",
       "    }\n",
       "\n",
       "    .dataframe thead th {\n",
       "        text-align: right;\n",
       "    }\n",
       "</style>\n",
       "<table border=\"1\" class=\"dataframe\">\n",
       "  <thead>\n",
       "    <tr style=\"text-align: right;\">\n",
       "      <th></th>\n",
       "      <th>SIGLA ICAO EMPRESA AEREA</th>\n",
       "      <th>EMPRESA AEREA</th>\n",
       "      <th>NUMERO VOO</th>\n",
       "      <th>CODIGO DI</th>\n",
       "      <th>CODIGO TIPO LINHA</th>\n",
       "      <th>MODELO EQUIPAMENTO</th>\n",
       "      <th>NUMERO DE ASSENTOS</th>\n",
       "      <th>SIGLA AEROPORTO ORIGEM</th>\n",
       "      <th>PARTIDA PREVISTA</th>\n",
       "      <th>PARTIDA REAL</th>\n",
       "      <th>...</th>\n",
       "      <th>CIAD DEST</th>\n",
       "      <th>NOME DEST</th>\n",
       "      <th>MUNICIPIO DEST</th>\n",
       "      <th>UF DEST</th>\n",
       "      <th>LATITUDE DEST</th>\n",
       "      <th>LONGITUDE DEST</th>\n",
       "      <th>DISTANCIA KM</th>\n",
       "      <th>HORA PARTIDA REAL</th>\n",
       "      <th>CLUSTER_HORA</th>\n",
       "      <th>AQO</th>\n",
       "    </tr>\n",
       "  </thead>\n",
       "  <tbody>\n",
       "    <tr>\n",
       "      <th>0</th>\n",
       "      <td>ACN</td>\n",
       "      <td>AZUL CONECTA LTDA</td>\n",
       "      <td>5121</td>\n",
       "      <td>0</td>\n",
       "      <td>N</td>\n",
       "      <td>C208</td>\n",
       "      <td>9.0</td>\n",
       "      <td>SBSP</td>\n",
       "      <td>01/06/2024 06:25</td>\n",
       "      <td>2024-06-01 06:20:00</td>\n",
       "      <td>...</td>\n",
       "      <td>RJ0005</td>\n",
       "      <td>JACAREPAGUA - ROBERTO MARINHO</td>\n",
       "      <td>RIO DE JANEIRO</td>\n",
       "      <td>RJ</td>\n",
       "      <td>-22.9875</td>\n",
       "      <td>-43.37</td>\n",
       "      <td>343.030915</td>\n",
       "      <td>06:20:00</td>\n",
       "      <td>4.0</td>\n",
       "      <td>3087.278232</td>\n",
       "    </tr>\n",
       "    <tr>\n",
       "      <th>1</th>\n",
       "      <td>ACN</td>\n",
       "      <td>AZUL CONECTA LTDA</td>\n",
       "      <td>5232</td>\n",
       "      <td>0</td>\n",
       "      <td>N</td>\n",
       "      <td>C208</td>\n",
       "      <td>9.0</td>\n",
       "      <td>SBSP</td>\n",
       "      <td>01/06/2024 10:45</td>\n",
       "      <td>2024-06-01 10:40:00</td>\n",
       "      <td>...</td>\n",
       "      <td>RJ0005</td>\n",
       "      <td>JACAREPAGUA - ROBERTO MARINHO</td>\n",
       "      <td>RIO DE JANEIRO</td>\n",
       "      <td>RJ</td>\n",
       "      <td>-22.9875</td>\n",
       "      <td>-43.37</td>\n",
       "      <td>343.030915</td>\n",
       "      <td>10:40:00</td>\n",
       "      <td>6.0</td>\n",
       "      <td>3087.278232</td>\n",
       "    </tr>\n",
       "    <tr>\n",
       "      <th>2</th>\n",
       "      <td>ACN</td>\n",
       "      <td>AZUL CONECTA LTDA</td>\n",
       "      <td>5114</td>\n",
       "      <td>0</td>\n",
       "      <td>N</td>\n",
       "      <td>C208</td>\n",
       "      <td>9.0</td>\n",
       "      <td>SBSP</td>\n",
       "      <td>02/06/2024 15:40</td>\n",
       "      <td>2024-06-02 15:38:00</td>\n",
       "      <td>...</td>\n",
       "      <td>RJ0005</td>\n",
       "      <td>JACAREPAGUA - ROBERTO MARINHO</td>\n",
       "      <td>RIO DE JANEIRO</td>\n",
       "      <td>RJ</td>\n",
       "      <td>-22.9875</td>\n",
       "      <td>-43.37</td>\n",
       "      <td>343.030915</td>\n",
       "      <td>15:38:00</td>\n",
       "      <td>8.0</td>\n",
       "      <td>3087.278232</td>\n",
       "    </tr>\n",
       "    <tr>\n",
       "      <th>3</th>\n",
       "      <td>ACN</td>\n",
       "      <td>AZUL CONECTA LTDA</td>\n",
       "      <td>5220</td>\n",
       "      <td>0</td>\n",
       "      <td>N</td>\n",
       "      <td>C208</td>\n",
       "      <td>9.0</td>\n",
       "      <td>SBSP</td>\n",
       "      <td>02/06/2024 13:40</td>\n",
       "      <td>2024-06-02 13:33:00</td>\n",
       "      <td>...</td>\n",
       "      <td>RJ0005</td>\n",
       "      <td>JACAREPAGUA - ROBERTO MARINHO</td>\n",
       "      <td>RIO DE JANEIRO</td>\n",
       "      <td>RJ</td>\n",
       "      <td>-22.9875</td>\n",
       "      <td>-43.37</td>\n",
       "      <td>343.030915</td>\n",
       "      <td>13:33:00</td>\n",
       "      <td>7.0</td>\n",
       "      <td>3087.278232</td>\n",
       "    </tr>\n",
       "    <tr>\n",
       "      <th>4</th>\n",
       "      <td>ACN</td>\n",
       "      <td>AZUL CONECTA LTDA</td>\n",
       "      <td>5226</td>\n",
       "      <td>0</td>\n",
       "      <td>N</td>\n",
       "      <td>C208</td>\n",
       "      <td>9.0</td>\n",
       "      <td>SBSP</td>\n",
       "      <td>02/06/2024 20:10</td>\n",
       "      <td>2024-06-02 20:17:00</td>\n",
       "      <td>...</td>\n",
       "      <td>RJ0005</td>\n",
       "      <td>JACAREPAGUA - ROBERTO MARINHO</td>\n",
       "      <td>RIO DE JANEIRO</td>\n",
       "      <td>RJ</td>\n",
       "      <td>-22.9875</td>\n",
       "      <td>-43.37</td>\n",
       "      <td>343.030915</td>\n",
       "      <td>20:17:00</td>\n",
       "      <td>11.0</td>\n",
       "      <td>3087.278232</td>\n",
       "    </tr>\n",
       "  </tbody>\n",
       "</table>\n",
       "<p>5 rows × 36 columns</p>\n",
       "</div>"
      ],
      "text/plain": [
       "  SIGLA ICAO EMPRESA AEREA      EMPRESA AEREA NUMERO VOO  CODIGO DI  \\\n",
       "0                      ACN  AZUL CONECTA LTDA       5121          0   \n",
       "1                      ACN  AZUL CONECTA LTDA       5232          0   \n",
       "2                      ACN  AZUL CONECTA LTDA       5114          0   \n",
       "3                      ACN  AZUL CONECTA LTDA       5220          0   \n",
       "4                      ACN  AZUL CONECTA LTDA       5226          0   \n",
       "\n",
       "  CODIGO TIPO LINHA MODELO EQUIPAMENTO  NUMERO DE ASSENTOS  \\\n",
       "0                 N               C208                 9.0   \n",
       "1                 N               C208                 9.0   \n",
       "2                 N               C208                 9.0   \n",
       "3                 N               C208                 9.0   \n",
       "4                 N               C208                 9.0   \n",
       "\n",
       "  SIGLA AEROPORTO ORIGEM  PARTIDA PREVISTA         PARTIDA REAL  ...  \\\n",
       "0                   SBSP  01/06/2024 06:25  2024-06-01 06:20:00  ...   \n",
       "1                   SBSP  01/06/2024 10:45  2024-06-01 10:40:00  ...   \n",
       "2                   SBSP  02/06/2024 15:40  2024-06-02 15:38:00  ...   \n",
       "3                   SBSP  02/06/2024 13:40  2024-06-02 13:33:00  ...   \n",
       "4                   SBSP  02/06/2024 20:10  2024-06-02 20:17:00  ...   \n",
       "\n",
       "  CIAD DEST                      NOME DEST  MUNICIPIO DEST UF DEST  \\\n",
       "0    RJ0005  JACAREPAGUA - ROBERTO MARINHO  RIO DE JANEIRO      RJ   \n",
       "1    RJ0005  JACAREPAGUA - ROBERTO MARINHO  RIO DE JANEIRO      RJ   \n",
       "2    RJ0005  JACAREPAGUA - ROBERTO MARINHO  RIO DE JANEIRO      RJ   \n",
       "3    RJ0005  JACAREPAGUA - ROBERTO MARINHO  RIO DE JANEIRO      RJ   \n",
       "4    RJ0005  JACAREPAGUA - ROBERTO MARINHO  RIO DE JANEIRO      RJ   \n",
       "\n",
       "  LATITUDE DEST LONGITUDE DEST DISTANCIA KM HORA PARTIDA REAL CLUSTER_HORA  \\\n",
       "0      -22.9875         -43.37   343.030915          06:20:00          4.0   \n",
       "1      -22.9875         -43.37   343.030915          10:40:00          6.0   \n",
       "2      -22.9875         -43.37   343.030915          15:38:00          8.0   \n",
       "3      -22.9875         -43.37   343.030915          13:33:00          7.0   \n",
       "4      -22.9875         -43.37   343.030915          20:17:00         11.0   \n",
       "\n",
       "           AQO  \n",
       "0  3087.278232  \n",
       "1  3087.278232  \n",
       "2  3087.278232  \n",
       "3  3087.278232  \n",
       "4  3087.278232  \n",
       "\n",
       "[5 rows x 36 columns]"
      ]
     },
     "execution_count": 23,
     "metadata": {},
     "output_type": "execute_result"
    }
   ],
   "source": [
    "df_voos.head()"
   ]
  },
  {
   "cell_type": "code",
   "execution_count": 24,
   "id": "e3dcd4c2",
   "metadata": {},
   "outputs": [
    {
     "data": {
      "application/vnd.microsoft.datawrangler.viewer.v0+json": {
       "columns": [
        {
         "name": "index",
         "rawType": "int64",
         "type": "integer"
        },
        {
         "name": "SIGLA ICAO EMPRESA AEREA",
         "rawType": "object",
         "type": "string"
        },
        {
         "name": "EMPRESA AEREA",
         "rawType": "object",
         "type": "string"
        },
        {
         "name": "NUMERO VOO",
         "rawType": "object",
         "type": "string"
        },
        {
         "name": "CODIGO DI",
         "rawType": "int64",
         "type": "integer"
        },
        {
         "name": "CODIGO TIPO LINHA",
         "rawType": "object",
         "type": "string"
        },
        {
         "name": "MODELO EQUIPAMENTO",
         "rawType": "object",
         "type": "string"
        },
        {
         "name": "NUMERO DE ASSENTOS",
         "rawType": "float64",
         "type": "float"
        },
        {
         "name": "SIGLA AEROPORTO ORIGEM",
         "rawType": "object",
         "type": "string"
        },
        {
         "name": "PARTIDA PREVISTA",
         "rawType": "object",
         "type": "string"
        },
        {
         "name": "PARTIDA REAL",
         "rawType": "object",
         "type": "string"
        },
        {
         "name": "SIGLA AEROPORTO DESTINO",
         "rawType": "object",
         "type": "string"
        },
        {
         "name": "CHEGADA PREVISTA",
         "rawType": "object",
         "type": "string"
        },
        {
         "name": "CHEGADA REAL",
         "rawType": "object",
         "type": "string"
        },
        {
         "name": "SITUACAO VOO",
         "rawType": "object",
         "type": "string"
        },
        {
         "name": "JUSTIFICATIVA",
         "rawType": "object",
         "type": "string"
        },
        {
         "name": "REFERENCIA",
         "rawType": "object",
         "type": "string"
        },
        {
         "name": "SITUACAO PARTIDA",
         "rawType": "object",
         "type": "string"
        },
        {
         "name": "SITUACAO CHEGADA",
         "rawType": "object",
         "type": "string"
        },
        {
         "name": "CODIGO OACI_x",
         "rawType": "object",
         "type": "string"
        },
        {
         "name": "CIAD ORIG",
         "rawType": "object",
         "type": "string"
        },
        {
         "name": "NOME ORIG",
         "rawType": "object",
         "type": "string"
        },
        {
         "name": "MUNICIPIO ORIG",
         "rawType": "object",
         "type": "string"
        },
        {
         "name": "UF ORIG",
         "rawType": "object",
         "type": "string"
        },
        {
         "name": "LATITUDE ORIG",
         "rawType": "float64",
         "type": "float"
        },
        {
         "name": "LONGITUDE ORIG",
         "rawType": "float64",
         "type": "float"
        },
        {
         "name": "CODIGO OACI_y",
         "rawType": "object",
         "type": "string"
        },
        {
         "name": "CIAD DEST",
         "rawType": "object",
         "type": "string"
        },
        {
         "name": "NOME DEST",
         "rawType": "object",
         "type": "string"
        },
        {
         "name": "MUNICIPIO DEST",
         "rawType": "object",
         "type": "string"
        },
        {
         "name": "UF DEST",
         "rawType": "object",
         "type": "string"
        },
        {
         "name": "LATITUDE DEST",
         "rawType": "float64",
         "type": "float"
        },
        {
         "name": "LONGITUDE DEST",
         "rawType": "float64",
         "type": "float"
        },
        {
         "name": "DISTANCIA KM",
         "rawType": "float64",
         "type": "float"
        },
        {
         "name": "HORA PARTIDA REAL",
         "rawType": "object",
         "type": "string"
        },
        {
         "name": "CLUSTER_HORA",
         "rawType": "float64",
         "type": "float"
        },
        {
         "name": "AQO",
         "rawType": "float64",
         "type": "float"
        }
       ],
       "ref": "682f7ceb-49d5-45d7-9448-7f8d48751304",
       "rows": [
        [
         "12000",
         "GLO",
         "GOL LINHAS AEREAS",
         "1008",
         "0",
         "N",
         "B738",
         "186.0",
         "SBSP",
         "28/12/2024 08:00",
         "2024-12-28 08:01:00",
         "SBRJ",
         "28/12/2024 09:05",
         "28/12/2024 09:07",
         "REALIZADO",
         "NAN",
         "28/12/2024",
         "PONTUAL",
         "PONTUAL",
         "SBSP",
         "SP0001",
         "SAO PAULO/CONGONHAS - DEPUTADO FREITAS NOBRE",
         "SAO PAULO",
         "SP",
         "-23.62611111111111",
         "-46.65638888888888",
         "SBRJ",
         "RJ0002",
         "SANTOS DUMONT",
         "RIO DE JANEIRO",
         "RJ",
         "-22.91",
         "-43.1625",
         "365.667492501412",
         "08:01:00",
         "5.0",
         "68014.15360526263"
        ],
        [
         "3039",
         "GLO",
         "GOL LINHAS AEREAS",
         "1012",
         "0",
         "N",
         "B737",
         "138.0",
         "SBSP",
         "31/07/2024 09:15",
         "2024-07-31 09:24:00",
         "SBRJ",
         "31/07/2024 10:20",
         "31/07/2024 10:34",
         "REALIZADO",
         "NAN",
         "31/07/2024",
         "PONTUAL",
         "PONTUAL",
         "SBSP",
         "SP0001",
         "SAO PAULO/CONGONHAS - DEPUTADO FREITAS NOBRE",
         "SAO PAULO",
         "SP",
         "-23.62611111111111",
         "-46.65638888888888",
         "SBRJ",
         "RJ0002",
         "SANTOS DUMONT",
         "RIO DE JANEIRO",
         "RJ",
         "-22.91",
         "-43.1625",
         "365.667492501412",
         "09:24:00",
         "5.0",
         "50462.11396519486"
        ],
        [
         "4618",
         "GLO",
         "GOL LINHAS AEREAS",
         "1050",
         "0",
         "N",
         "B738",
         "186.0",
         "SBSP",
         "18/08/2024 20:50",
         "2024-08-18 21:18:00",
         "SBRJ",
         "18/08/2024 21:55",
         "18/08/2024 22:11",
         "REALIZADO",
         "NAN",
         "18/08/2024",
         "PONTUAL",
         "PONTUAL",
         "SBSP",
         "SP0001",
         "SAO PAULO/CONGONHAS - DEPUTADO FREITAS NOBRE",
         "SAO PAULO",
         "SP",
         "-23.62611111111111",
         "-46.65638888888888",
         "SBRJ",
         "RJ0002",
         "SANTOS DUMONT",
         "RIO DE JANEIRO",
         "RJ",
         "-22.91",
         "-43.1625",
         "365.667492501412",
         "21:18:00",
         "11.0",
         "68014.15360526263"
        ],
        [
         "189",
         "AZU",
         "AZUL LINHAS AEREAS",
         "2610",
         "0",
         "N",
         "E195",
         "118.0",
         "SBSP",
         "03/06/2024 16:25",
         "2024-06-03 16:29:00",
         "SBRJ",
         "03/06/2024 17:25",
         "03/06/2024 17:29",
         "REALIZADO",
         "NAN",
         "03/06/2024",
         "PONTUAL",
         "PONTUAL",
         "SBSP",
         "SP0001",
         "SAO PAULO/CONGONHAS - DEPUTADO FREITAS NOBRE",
         "SAO PAULO",
         "SP",
         "-23.62611111111111",
         "-46.65638888888888",
         "SBRJ",
         "RJ0002",
         "SANTOS DUMONT",
         "RIO DE JANEIRO",
         "RJ",
         "-22.91",
         "-43.1625",
         "365.667492501412",
         "16:29:00",
         "9.0",
         "43148.76411516662"
        ],
        [
         "2833",
         "GLO",
         "GOL LINHAS AEREAS",
         "1012",
         "0",
         "N",
         "B738",
         "186.0",
         "SBSP",
         "22/07/2024 09:15",
         "2024-07-22 09:11:00",
         "SBRJ",
         "22/07/2024 10:20",
         "22/07/2024 10:11",
         "REALIZADO",
         "NAN",
         "22/07/2024",
         "ANTECIPADO",
         "ANTECIPADO",
         "SBSP",
         "SP0001",
         "SAO PAULO/CONGONHAS - DEPUTADO FREITAS NOBRE",
         "SAO PAULO",
         "SP",
         "-23.62611111111111",
         "-46.65638888888888",
         "SBRJ",
         "RJ0002",
         "SANTOS DUMONT",
         "RIO DE JANEIRO",
         "RJ",
         "-22.91",
         "-43.1625",
         "365.667492501412",
         "09:11:00",
         "5.0",
         "68014.15360526263"
        ]
       ],
       "shape": {
        "columns": 36,
        "rows": 5
       }
      },
      "text/html": [
       "<div>\n",
       "<style scoped>\n",
       "    .dataframe tbody tr th:only-of-type {\n",
       "        vertical-align: middle;\n",
       "    }\n",
       "\n",
       "    .dataframe tbody tr th {\n",
       "        vertical-align: top;\n",
       "    }\n",
       "\n",
       "    .dataframe thead th {\n",
       "        text-align: right;\n",
       "    }\n",
       "</style>\n",
       "<table border=\"1\" class=\"dataframe\">\n",
       "  <thead>\n",
       "    <tr style=\"text-align: right;\">\n",
       "      <th></th>\n",
       "      <th>SIGLA ICAO EMPRESA AEREA</th>\n",
       "      <th>EMPRESA AEREA</th>\n",
       "      <th>NUMERO VOO</th>\n",
       "      <th>CODIGO DI</th>\n",
       "      <th>CODIGO TIPO LINHA</th>\n",
       "      <th>MODELO EQUIPAMENTO</th>\n",
       "      <th>NUMERO DE ASSENTOS</th>\n",
       "      <th>SIGLA AEROPORTO ORIGEM</th>\n",
       "      <th>PARTIDA PREVISTA</th>\n",
       "      <th>PARTIDA REAL</th>\n",
       "      <th>...</th>\n",
       "      <th>CIAD DEST</th>\n",
       "      <th>NOME DEST</th>\n",
       "      <th>MUNICIPIO DEST</th>\n",
       "      <th>UF DEST</th>\n",
       "      <th>LATITUDE DEST</th>\n",
       "      <th>LONGITUDE DEST</th>\n",
       "      <th>DISTANCIA KM</th>\n",
       "      <th>HORA PARTIDA REAL</th>\n",
       "      <th>CLUSTER_HORA</th>\n",
       "      <th>AQO</th>\n",
       "    </tr>\n",
       "  </thead>\n",
       "  <tbody>\n",
       "    <tr>\n",
       "      <th>12000</th>\n",
       "      <td>GLO</td>\n",
       "      <td>GOL LINHAS AEREAS</td>\n",
       "      <td>1008</td>\n",
       "      <td>0</td>\n",
       "      <td>N</td>\n",
       "      <td>B738</td>\n",
       "      <td>186.0</td>\n",
       "      <td>SBSP</td>\n",
       "      <td>28/12/2024 08:00</td>\n",
       "      <td>2024-12-28 08:01:00</td>\n",
       "      <td>...</td>\n",
       "      <td>RJ0002</td>\n",
       "      <td>SANTOS DUMONT</td>\n",
       "      <td>RIO DE JANEIRO</td>\n",
       "      <td>RJ</td>\n",
       "      <td>-22.91</td>\n",
       "      <td>-43.1625</td>\n",
       "      <td>365.667493</td>\n",
       "      <td>08:01:00</td>\n",
       "      <td>5.0</td>\n",
       "      <td>68014.153605</td>\n",
       "    </tr>\n",
       "    <tr>\n",
       "      <th>3039</th>\n",
       "      <td>GLO</td>\n",
       "      <td>GOL LINHAS AEREAS</td>\n",
       "      <td>1012</td>\n",
       "      <td>0</td>\n",
       "      <td>N</td>\n",
       "      <td>B737</td>\n",
       "      <td>138.0</td>\n",
       "      <td>SBSP</td>\n",
       "      <td>31/07/2024 09:15</td>\n",
       "      <td>2024-07-31 09:24:00</td>\n",
       "      <td>...</td>\n",
       "      <td>RJ0002</td>\n",
       "      <td>SANTOS DUMONT</td>\n",
       "      <td>RIO DE JANEIRO</td>\n",
       "      <td>RJ</td>\n",
       "      <td>-22.91</td>\n",
       "      <td>-43.1625</td>\n",
       "      <td>365.667493</td>\n",
       "      <td>09:24:00</td>\n",
       "      <td>5.0</td>\n",
       "      <td>50462.113965</td>\n",
       "    </tr>\n",
       "    <tr>\n",
       "      <th>4618</th>\n",
       "      <td>GLO</td>\n",
       "      <td>GOL LINHAS AEREAS</td>\n",
       "      <td>1050</td>\n",
       "      <td>0</td>\n",
       "      <td>N</td>\n",
       "      <td>B738</td>\n",
       "      <td>186.0</td>\n",
       "      <td>SBSP</td>\n",
       "      <td>18/08/2024 20:50</td>\n",
       "      <td>2024-08-18 21:18:00</td>\n",
       "      <td>...</td>\n",
       "      <td>RJ0002</td>\n",
       "      <td>SANTOS DUMONT</td>\n",
       "      <td>RIO DE JANEIRO</td>\n",
       "      <td>RJ</td>\n",
       "      <td>-22.91</td>\n",
       "      <td>-43.1625</td>\n",
       "      <td>365.667493</td>\n",
       "      <td>21:18:00</td>\n",
       "      <td>11.0</td>\n",
       "      <td>68014.153605</td>\n",
       "    </tr>\n",
       "    <tr>\n",
       "      <th>189</th>\n",
       "      <td>AZU</td>\n",
       "      <td>AZUL LINHAS AEREAS</td>\n",
       "      <td>2610</td>\n",
       "      <td>0</td>\n",
       "      <td>N</td>\n",
       "      <td>E195</td>\n",
       "      <td>118.0</td>\n",
       "      <td>SBSP</td>\n",
       "      <td>03/06/2024 16:25</td>\n",
       "      <td>2024-06-03 16:29:00</td>\n",
       "      <td>...</td>\n",
       "      <td>RJ0002</td>\n",
       "      <td>SANTOS DUMONT</td>\n",
       "      <td>RIO DE JANEIRO</td>\n",
       "      <td>RJ</td>\n",
       "      <td>-22.91</td>\n",
       "      <td>-43.1625</td>\n",
       "      <td>365.667493</td>\n",
       "      <td>16:29:00</td>\n",
       "      <td>9.0</td>\n",
       "      <td>43148.764115</td>\n",
       "    </tr>\n",
       "    <tr>\n",
       "      <th>2833</th>\n",
       "      <td>GLO</td>\n",
       "      <td>GOL LINHAS AEREAS</td>\n",
       "      <td>1012</td>\n",
       "      <td>0</td>\n",
       "      <td>N</td>\n",
       "      <td>B738</td>\n",
       "      <td>186.0</td>\n",
       "      <td>SBSP</td>\n",
       "      <td>22/07/2024 09:15</td>\n",
       "      <td>2024-07-22 09:11:00</td>\n",
       "      <td>...</td>\n",
       "      <td>RJ0002</td>\n",
       "      <td>SANTOS DUMONT</td>\n",
       "      <td>RIO DE JANEIRO</td>\n",
       "      <td>RJ</td>\n",
       "      <td>-22.91</td>\n",
       "      <td>-43.1625</td>\n",
       "      <td>365.667493</td>\n",
       "      <td>09:11:00</td>\n",
       "      <td>5.0</td>\n",
       "      <td>68014.153605</td>\n",
       "    </tr>\n",
       "  </tbody>\n",
       "</table>\n",
       "<p>5 rows × 36 columns</p>\n",
       "</div>"
      ],
      "text/plain": [
       "      SIGLA ICAO EMPRESA AEREA       EMPRESA AEREA NUMERO VOO  CODIGO DI  \\\n",
       "12000                      GLO   GOL LINHAS AEREAS       1008          0   \n",
       "3039                       GLO   GOL LINHAS AEREAS       1012          0   \n",
       "4618                       GLO   GOL LINHAS AEREAS       1050          0   \n",
       "189                        AZU  AZUL LINHAS AEREAS       2610          0   \n",
       "2833                       GLO   GOL LINHAS AEREAS       1012          0   \n",
       "\n",
       "      CODIGO TIPO LINHA MODELO EQUIPAMENTO  NUMERO DE ASSENTOS  \\\n",
       "12000                 N               B738               186.0   \n",
       "3039                  N               B737               138.0   \n",
       "4618                  N               B738               186.0   \n",
       "189                   N               E195               118.0   \n",
       "2833                  N               B738               186.0   \n",
       "\n",
       "      SIGLA AEROPORTO ORIGEM  PARTIDA PREVISTA         PARTIDA REAL  ...  \\\n",
       "12000                   SBSP  28/12/2024 08:00  2024-12-28 08:01:00  ...   \n",
       "3039                    SBSP  31/07/2024 09:15  2024-07-31 09:24:00  ...   \n",
       "4618                    SBSP  18/08/2024 20:50  2024-08-18 21:18:00  ...   \n",
       "189                     SBSP  03/06/2024 16:25  2024-06-03 16:29:00  ...   \n",
       "2833                    SBSP  22/07/2024 09:15  2024-07-22 09:11:00  ...   \n",
       "\n",
       "      CIAD DEST      NOME DEST  MUNICIPIO DEST UF DEST LATITUDE DEST  \\\n",
       "12000    RJ0002  SANTOS DUMONT  RIO DE JANEIRO      RJ        -22.91   \n",
       "3039     RJ0002  SANTOS DUMONT  RIO DE JANEIRO      RJ        -22.91   \n",
       "4618     RJ0002  SANTOS DUMONT  RIO DE JANEIRO      RJ        -22.91   \n",
       "189      RJ0002  SANTOS DUMONT  RIO DE JANEIRO      RJ        -22.91   \n",
       "2833     RJ0002  SANTOS DUMONT  RIO DE JANEIRO      RJ        -22.91   \n",
       "\n",
       "      LONGITUDE DEST DISTANCIA KM HORA PARTIDA REAL CLUSTER_HORA           AQO  \n",
       "12000       -43.1625   365.667493          08:01:00          5.0  68014.153605  \n",
       "3039        -43.1625   365.667493          09:24:00          5.0  50462.113965  \n",
       "4618        -43.1625   365.667493          21:18:00         11.0  68014.153605  \n",
       "189         -43.1625   365.667493          16:29:00          9.0  43148.764115  \n",
       "2833        -43.1625   365.667493          09:11:00          5.0  68014.153605  \n",
       "\n",
       "[5 rows x 36 columns]"
      ]
     },
     "execution_count": 24,
     "metadata": {},
     "output_type": "execute_result"
    }
   ],
   "source": [
    "df_voos.sample(5)"
   ]
  },
  {
   "cell_type": "code",
   "execution_count": 25,
   "id": "df0e62b4",
   "metadata": {},
   "outputs": [
    {
     "name": "stdout",
     "output_type": "stream",
     "text": [
      "<class 'pandas.core.frame.DataFrame'>\n",
      "RangeIndex: 12693 entries, 0 to 12692\n",
      "Data columns (total 36 columns):\n",
      " #   Column                    Non-Null Count  Dtype  \n",
      "---  ------                    --------------  -----  \n",
      " 0   SIGLA ICAO EMPRESA AEREA  12693 non-null  object \n",
      " 1   EMPRESA AEREA             12693 non-null  object \n",
      " 2   NUMERO VOO                12693 non-null  object \n",
      " 3   CODIGO DI                 12693 non-null  int64  \n",
      " 4   CODIGO TIPO LINHA         12693 non-null  object \n",
      " 5   MODELO EQUIPAMENTO        12693 non-null  object \n",
      " 6   NUMERO DE ASSENTOS        12693 non-null  float64\n",
      " 7   SIGLA AEROPORTO ORIGEM    12693 non-null  object \n",
      " 8   PARTIDA PREVISTA          12693 non-null  object \n",
      " 9   PARTIDA REAL              12683 non-null  object \n",
      " 10  SIGLA AEROPORTO DESTINO   12693 non-null  object \n",
      " 11  CHEGADA PREVISTA          12693 non-null  object \n",
      " 12  CHEGADA REAL              12693 non-null  object \n",
      " 13  SITUACAO VOO              12693 non-null  object \n",
      " 14  JUSTIFICATIVA             12693 non-null  object \n",
      " 15  REFERENCIA                12693 non-null  object \n",
      " 16  SITUACAO PARTIDA          12693 non-null  object \n",
      " 17  SITUACAO CHEGADA          12693 non-null  object \n",
      " 18  CODIGO OACI_x             12693 non-null  object \n",
      " 19  CIAD ORIG                 12693 non-null  object \n",
      " 20  NOME ORIG                 12693 non-null  object \n",
      " 21  MUNICIPIO ORIG            12693 non-null  object \n",
      " 22  UF ORIG                   12693 non-null  object \n",
      " 23  LATITUDE ORIG             12693 non-null  float64\n",
      " 24  LONGITUDE ORIG            12693 non-null  float64\n",
      " 25  CODIGO OACI_y             12693 non-null  object \n",
      " 26  CIAD DEST                 12693 non-null  object \n",
      " 27  NOME DEST                 12693 non-null  object \n",
      " 28  MUNICIPIO DEST            12693 non-null  object \n",
      " 29  UF DEST                   12693 non-null  object \n",
      " 30  LATITUDE DEST             12693 non-null  float64\n",
      " 31  LONGITUDE DEST            12693 non-null  float64\n",
      " 32  DISTANCIA KM              12693 non-null  float64\n",
      " 33  HORA PARTIDA REAL         12683 non-null  object \n",
      " 34  CLUSTER_HORA              12683 non-null  float64\n",
      " 35  AQO                       12693 non-null  float64\n",
      "dtypes: float64(8), int64(1), object(27)\n",
      "memory usage: 3.5+ MB\n"
     ]
    }
   ],
   "source": [
    "df_voos.info()"
   ]
  },
  {
   "cell_type": "code",
   "execution_count": 26,
   "id": "e7373114",
   "metadata": {},
   "outputs": [
    {
     "data": {
      "text/plain": [
       "(12693, 36)"
      ]
     },
     "execution_count": 26,
     "metadata": {},
     "output_type": "execute_result"
    }
   ],
   "source": [
    "df_voos.shape"
   ]
  },
  {
   "cell_type": "code",
   "execution_count": 27,
   "id": "9148d4ea",
   "metadata": {},
   "outputs": [
    {
     "data": {
      "application/vnd.microsoft.datawrangler.viewer.v0+json": {
       "columns": [
        {
         "name": "index",
         "rawType": "object",
         "type": "string"
        },
        {
         "name": "0",
         "rawType": "object",
         "type": "unknown"
        }
       ],
       "ref": "ca4c98ae-0131-437d-a855-779657db906c",
       "rows": [
        [
         "SIGLA ICAO EMPRESA AEREA",
         "object"
        ],
        [
         "EMPRESA AEREA",
         "object"
        ],
        [
         "NUMERO VOO",
         "object"
        ],
        [
         "CODIGO DI",
         "int64"
        ],
        [
         "CODIGO TIPO LINHA",
         "object"
        ],
        [
         "MODELO EQUIPAMENTO",
         "object"
        ],
        [
         "NUMERO DE ASSENTOS",
         "float64"
        ],
        [
         "SIGLA AEROPORTO ORIGEM",
         "object"
        ],
        [
         "PARTIDA PREVISTA",
         "object"
        ],
        [
         "PARTIDA REAL",
         "object"
        ],
        [
         "SIGLA AEROPORTO DESTINO",
         "object"
        ],
        [
         "CHEGADA PREVISTA",
         "object"
        ],
        [
         "CHEGADA REAL",
         "object"
        ],
        [
         "SITUACAO VOO",
         "object"
        ],
        [
         "JUSTIFICATIVA",
         "object"
        ],
        [
         "REFERENCIA",
         "object"
        ],
        [
         "SITUACAO PARTIDA",
         "object"
        ],
        [
         "SITUACAO CHEGADA",
         "object"
        ],
        [
         "CODIGO OACI_x",
         "object"
        ],
        [
         "CIAD ORIG",
         "object"
        ],
        [
         "NOME ORIG",
         "object"
        ],
        [
         "MUNICIPIO ORIG",
         "object"
        ],
        [
         "UF ORIG",
         "object"
        ],
        [
         "LATITUDE ORIG",
         "float64"
        ],
        [
         "LONGITUDE ORIG",
         "float64"
        ],
        [
         "CODIGO OACI_y",
         "object"
        ],
        [
         "CIAD DEST",
         "object"
        ],
        [
         "NOME DEST",
         "object"
        ],
        [
         "MUNICIPIO DEST",
         "object"
        ],
        [
         "UF DEST",
         "object"
        ],
        [
         "LATITUDE DEST",
         "float64"
        ],
        [
         "LONGITUDE DEST",
         "float64"
        ],
        [
         "DISTANCIA KM",
         "float64"
        ],
        [
         "HORA PARTIDA REAL",
         "object"
        ],
        [
         "CLUSTER_HORA",
         "float64"
        ],
        [
         "AQO",
         "float64"
        ]
       ],
       "shape": {
        "columns": 1,
        "rows": 36
       }
      },
      "text/plain": [
       "SIGLA ICAO EMPRESA AEREA     object\n",
       "EMPRESA AEREA                object\n",
       "NUMERO VOO                   object\n",
       "CODIGO DI                     int64\n",
       "CODIGO TIPO LINHA            object\n",
       "MODELO EQUIPAMENTO           object\n",
       "NUMERO DE ASSENTOS          float64\n",
       "SIGLA AEROPORTO ORIGEM       object\n",
       "PARTIDA PREVISTA             object\n",
       "PARTIDA REAL                 object\n",
       "SIGLA AEROPORTO DESTINO      object\n",
       "CHEGADA PREVISTA             object\n",
       "CHEGADA REAL                 object\n",
       "SITUACAO VOO                 object\n",
       "JUSTIFICATIVA                object\n",
       "REFERENCIA                   object\n",
       "SITUACAO PARTIDA             object\n",
       "SITUACAO CHEGADA             object\n",
       "CODIGO OACI_x                object\n",
       "CIAD ORIG                    object\n",
       "NOME ORIG                    object\n",
       "MUNICIPIO ORIG               object\n",
       "UF ORIG                      object\n",
       "LATITUDE ORIG               float64\n",
       "LONGITUDE ORIG              float64\n",
       "CODIGO OACI_y                object\n",
       "CIAD DEST                    object\n",
       "NOME DEST                    object\n",
       "MUNICIPIO DEST               object\n",
       "UF DEST                      object\n",
       "LATITUDE DEST               float64\n",
       "LONGITUDE DEST              float64\n",
       "DISTANCIA KM                float64\n",
       "HORA PARTIDA REAL            object\n",
       "CLUSTER_HORA                float64\n",
       "AQO                         float64\n",
       "dtype: object"
      ]
     },
     "execution_count": 27,
     "metadata": {},
     "output_type": "execute_result"
    }
   ],
   "source": [
    "df_voos.dtypes"
   ]
  },
  {
   "cell_type": "code",
   "execution_count": 28,
   "id": "8888d184",
   "metadata": {},
   "outputs": [
    {
     "data": {
      "application/vnd.microsoft.datawrangler.viewer.v0+json": {
       "columns": [
        {
         "name": "index",
         "rawType": "object",
         "type": "string"
        },
        {
         "name": "CODIGO DI",
         "rawType": "float64",
         "type": "float"
        },
        {
         "name": "NUMERO DE ASSENTOS",
         "rawType": "float64",
         "type": "float"
        },
        {
         "name": "LATITUDE ORIG",
         "rawType": "float64",
         "type": "float"
        },
        {
         "name": "LONGITUDE ORIG",
         "rawType": "float64",
         "type": "float"
        },
        {
         "name": "LATITUDE DEST",
         "rawType": "float64",
         "type": "float"
        },
        {
         "name": "LONGITUDE DEST",
         "rawType": "float64",
         "type": "float"
        },
        {
         "name": "DISTANCIA KM",
         "rawType": "float64",
         "type": "float"
        },
        {
         "name": "CLUSTER_HORA",
         "rawType": "float64",
         "type": "float"
        },
        {
         "name": "AQO",
         "rawType": "float64",
         "type": "float"
        }
       ],
       "ref": "6d629a27-6fea-4f96-a854-5b18c35ca883",
       "rows": [
        [
         "count",
         "12693.0",
         "12693.0",
         "12693.0",
         "12693.0",
         "12693.0",
         "12693.0",
         "12693.0",
         "12683.0",
         "12693.0"
        ],
        [
         "mean",
         "0.0",
         "140.5409280705901",
         "-23.626111111111115",
         "-46.65638888888887",
         "-22.910837469471364",
         "-43.18635415846006",
         "363.28403011570276",
         "7.474966490577939",
         "51313.69371419024"
        ],
        [
         "std",
         "0.0",
         "48.57761730386256",
         "3.552853634824066e-15",
         "7.105707269648132e-15",
         "0.03380037788527666",
         "0.061173044344229786",
         "6.496950781199151",
         "2.3296191117569647",
         "17777.100364197977"
        ],
        [
         "min",
         "0.0",
         "9.0",
         "-23.62611111111111",
         "-46.65638888888888",
         "-22.9875",
         "-43.37",
         "343.0309146717754",
         "3.0",
         "3087.2782320459787"
        ],
        [
         "25%",
         "0.0",
         "118.0",
         "-23.62611111111111",
         "-46.65638888888888",
         "-22.91",
         "-43.1625",
         "365.667492501412",
         "5.0",
         "43148.76411516662"
        ],
        [
         "50%",
         "0.0",
         "144.0",
         "-23.62611111111111",
         "-46.65638888888888",
         "-22.91",
         "-43.1625",
         "365.667492501412",
         "8.0",
         "52656.118920203335"
        ],
        [
         "75%",
         "0.0",
         "186.0",
         "-23.62611111111111",
         "-46.65638888888888",
         "-22.91",
         "-43.1625",
         "365.667492501412",
         "10.0",
         "68014.15360526263"
        ],
        [
         "max",
         "0.0",
         "186.0",
         "-23.62611111111111",
         "-46.65638888888888",
         "-22.81",
         "-43.1625",
         "365.667492501412",
         "12.0",
         "68014.15360526263"
        ]
       ],
       "shape": {
        "columns": 9,
        "rows": 8
       }
      },
      "text/html": [
       "<div>\n",
       "<style scoped>\n",
       "    .dataframe tbody tr th:only-of-type {\n",
       "        vertical-align: middle;\n",
       "    }\n",
       "\n",
       "    .dataframe tbody tr th {\n",
       "        vertical-align: top;\n",
       "    }\n",
       "\n",
       "    .dataframe thead th {\n",
       "        text-align: right;\n",
       "    }\n",
       "</style>\n",
       "<table border=\"1\" class=\"dataframe\">\n",
       "  <thead>\n",
       "    <tr style=\"text-align: right;\">\n",
       "      <th></th>\n",
       "      <th>CODIGO DI</th>\n",
       "      <th>NUMERO DE ASSENTOS</th>\n",
       "      <th>LATITUDE ORIG</th>\n",
       "      <th>LONGITUDE ORIG</th>\n",
       "      <th>LATITUDE DEST</th>\n",
       "      <th>LONGITUDE DEST</th>\n",
       "      <th>DISTANCIA KM</th>\n",
       "      <th>CLUSTER_HORA</th>\n",
       "      <th>AQO</th>\n",
       "    </tr>\n",
       "  </thead>\n",
       "  <tbody>\n",
       "    <tr>\n",
       "      <th>count</th>\n",
       "      <td>12693.0</td>\n",
       "      <td>12693.000000</td>\n",
       "      <td>1.269300e+04</td>\n",
       "      <td>1.269300e+04</td>\n",
       "      <td>12693.000000</td>\n",
       "      <td>12693.000000</td>\n",
       "      <td>12693.000000</td>\n",
       "      <td>12683.000000</td>\n",
       "      <td>12693.000000</td>\n",
       "    </tr>\n",
       "    <tr>\n",
       "      <th>mean</th>\n",
       "      <td>0.0</td>\n",
       "      <td>140.540928</td>\n",
       "      <td>-2.362611e+01</td>\n",
       "      <td>-4.665639e+01</td>\n",
       "      <td>-22.910837</td>\n",
       "      <td>-43.186354</td>\n",
       "      <td>363.284030</td>\n",
       "      <td>7.474966</td>\n",
       "      <td>51313.693714</td>\n",
       "    </tr>\n",
       "    <tr>\n",
       "      <th>std</th>\n",
       "      <td>0.0</td>\n",
       "      <td>48.577617</td>\n",
       "      <td>3.552854e-15</td>\n",
       "      <td>7.105707e-15</td>\n",
       "      <td>0.033800</td>\n",
       "      <td>0.061173</td>\n",
       "      <td>6.496951</td>\n",
       "      <td>2.329619</td>\n",
       "      <td>17777.100364</td>\n",
       "    </tr>\n",
       "    <tr>\n",
       "      <th>min</th>\n",
       "      <td>0.0</td>\n",
       "      <td>9.000000</td>\n",
       "      <td>-2.362611e+01</td>\n",
       "      <td>-4.665639e+01</td>\n",
       "      <td>-22.987500</td>\n",
       "      <td>-43.370000</td>\n",
       "      <td>343.030915</td>\n",
       "      <td>3.000000</td>\n",
       "      <td>3087.278232</td>\n",
       "    </tr>\n",
       "    <tr>\n",
       "      <th>25%</th>\n",
       "      <td>0.0</td>\n",
       "      <td>118.000000</td>\n",
       "      <td>-2.362611e+01</td>\n",
       "      <td>-4.665639e+01</td>\n",
       "      <td>-22.910000</td>\n",
       "      <td>-43.162500</td>\n",
       "      <td>365.667493</td>\n",
       "      <td>5.000000</td>\n",
       "      <td>43148.764115</td>\n",
       "    </tr>\n",
       "    <tr>\n",
       "      <th>50%</th>\n",
       "      <td>0.0</td>\n",
       "      <td>144.000000</td>\n",
       "      <td>-2.362611e+01</td>\n",
       "      <td>-4.665639e+01</td>\n",
       "      <td>-22.910000</td>\n",
       "      <td>-43.162500</td>\n",
       "      <td>365.667493</td>\n",
       "      <td>8.000000</td>\n",
       "      <td>52656.118920</td>\n",
       "    </tr>\n",
       "    <tr>\n",
       "      <th>75%</th>\n",
       "      <td>0.0</td>\n",
       "      <td>186.000000</td>\n",
       "      <td>-2.362611e+01</td>\n",
       "      <td>-4.665639e+01</td>\n",
       "      <td>-22.910000</td>\n",
       "      <td>-43.162500</td>\n",
       "      <td>365.667493</td>\n",
       "      <td>10.000000</td>\n",
       "      <td>68014.153605</td>\n",
       "    </tr>\n",
       "    <tr>\n",
       "      <th>max</th>\n",
       "      <td>0.0</td>\n",
       "      <td>186.000000</td>\n",
       "      <td>-2.362611e+01</td>\n",
       "      <td>-4.665639e+01</td>\n",
       "      <td>-22.810000</td>\n",
       "      <td>-43.162500</td>\n",
       "      <td>365.667493</td>\n",
       "      <td>12.000000</td>\n",
       "      <td>68014.153605</td>\n",
       "    </tr>\n",
       "  </tbody>\n",
       "</table>\n",
       "</div>"
      ],
      "text/plain": [
       "       CODIGO DI  NUMERO DE ASSENTOS  LATITUDE ORIG  LONGITUDE ORIG  \\\n",
       "count    12693.0        12693.000000   1.269300e+04    1.269300e+04   \n",
       "mean         0.0          140.540928  -2.362611e+01   -4.665639e+01   \n",
       "std          0.0           48.577617   3.552854e-15    7.105707e-15   \n",
       "min          0.0            9.000000  -2.362611e+01   -4.665639e+01   \n",
       "25%          0.0          118.000000  -2.362611e+01   -4.665639e+01   \n",
       "50%          0.0          144.000000  -2.362611e+01   -4.665639e+01   \n",
       "75%          0.0          186.000000  -2.362611e+01   -4.665639e+01   \n",
       "max          0.0          186.000000  -2.362611e+01   -4.665639e+01   \n",
       "\n",
       "       LATITUDE DEST  LONGITUDE DEST  DISTANCIA KM  CLUSTER_HORA           AQO  \n",
       "count   12693.000000    12693.000000  12693.000000  12683.000000  12693.000000  \n",
       "mean      -22.910837      -43.186354    363.284030      7.474966  51313.693714  \n",
       "std         0.033800        0.061173      6.496951      2.329619  17777.100364  \n",
       "min       -22.987500      -43.370000    343.030915      3.000000   3087.278232  \n",
       "25%       -22.910000      -43.162500    365.667493      5.000000  43148.764115  \n",
       "50%       -22.910000      -43.162500    365.667493      8.000000  52656.118920  \n",
       "75%       -22.910000      -43.162500    365.667493     10.000000  68014.153605  \n",
       "max       -22.810000      -43.162500    365.667493     12.000000  68014.153605  "
      ]
     },
     "execution_count": 28,
     "metadata": {},
     "output_type": "execute_result"
    }
   ],
   "source": [
    "df_voos.describe()"
   ]
  },
  {
   "cell_type": "code",
   "execution_count": 29,
   "id": "ada22b26",
   "metadata": {},
   "outputs": [
    {
     "data": {
      "text/plain": [
       "8"
      ]
     },
     "execution_count": 29,
     "metadata": {},
     "output_type": "execute_result"
    }
   ],
   "source": [
    "df_voos[\"NUMERO DE ASSENTOS\"].nunique()"
   ]
  },
  {
   "cell_type": "markdown",
   "id": "2009f3cb",
   "metadata": {},
   "source": [
    "### Graficos:\n",
    "\n",
    "- Gráfico de linha com duas linhas: eixo x horas do dia e eixo y numero de voos 1 linha latam 2 linha outras companhias\n",
    "\n",
    "- Grafico de barras + filtro: Filtro por Cluster de horario + Grafico de barras com top 5 empresas com maior disponibilidade de assentos por horario e uma sexta barra com a disponibilidade da LATAM\n",
    "\n",
    "- Matriz de correlação para identificar o que mais causou reclamações em cada mes\n"
   ]
  },
  {
   "cell_type": "markdown",
   "id": "229b9321",
   "metadata": {},
   "source": [
    "### Notas:\n",
    "\n",
    "- Realizar estudo para entender a importancia do tamanho do avião\n"
   ]
  },
  {
   "cell_type": "code",
   "execution_count": 32,
   "id": "c3389ca9",
   "metadata": {},
   "outputs": [
    {
     "data": {
      "image/png": "[encoded data removed]",
      "text/plain": [
       "<Figure size 1400x700 with 1 Axes>"
      ]
     },
     "metadata": {},
     "output_type": "display_data"
    }
   ],
   "source": [
    "dados_para_grafico = df_voos.groupby(['CLUSTER_HORA', 'EMPRESA AEREA']).size().reset_index(name='total_voos')\n",
    "        \n",
    "        # Opcional: Salvar este DataFrame de resumo para usar no Grafana depois\n",
    "        # dados_para_grafico.to_csv('resumo_voos_por_hora_top5.csv', index=False)\n",
    "        # print(\"   - DataFrame de resumo salvo em 'resumo_voos_por_hora_top5.csv'\")\n",
    "\n",
    "        # --- PASSO 3: Criar o Gráfico ---\n",
    "\n",
    "\n",
    "        # Configura o estilo do gráfico\n",
    "sns.set_theme(style=\"whitegrid\")\n",
    "plt.figure(figsize=(14, 7))\n",
    "\n",
    "        # Cria o gráfico de linha com o Seaborn\n",
    "        # O parâmetro 'hue' é a mágica que cria uma linha para cada empresa\n",
    "ax = sns.lineplot(\n",
    "            data=dados_para_grafico,\n",
    "            x='CLUSTER_HORA',\n",
    "            y='total_voos',\n",
    "            hue='EMPRESA AEREA',\n",
    "            marker='o',  # Adiciona um marcador de ponto em cada dado\n",
    "            linewidth=2.5\n",
    "        )\n",
    "\n",
    "        # Melhora a aparência do gráfico\n",
    "plt.title('Contagem Total de Voos por Cluster de Hora (Top 5 Companhias)', fontsize=16)\n",
    "plt.xlabel('Cluster de Hora do Dia', fontsize=12)\n",
    "plt.ylabel('Quantidade Total de Voos', fontsize=12)\n",
    "        \n",
    "        # Garante que o eixo X mostre todos os números inteiros dos clusters\n",
    "ax.set_xticks(dados_para_grafico['CLUSTER_HORA'].unique())\n",
    "plt.legend(title='Companhia Aérea')\n",
    "plt.tight_layout() # Ajusta o layout para não cortar os títulos\n"
   ]
  },
  {
   "cell_type": "code",
   "execution_count": 34,
   "id": "b30be505",
   "metadata": {},
   "outputs": [],
   "source": [
    "top_5_empresas = df_voos['EMPRESA AEREA'].value_counts().nlargest(5).index\n",
    "df_top5 = df_voos[df_voos['EMPRESA AEREA'].isin(top_5_empresas)]\n",
    "dados_para_grafico = df_top5.groupby(['CLUSTER_HORA', 'EMPRESA AEREA']).size().reset_index(name='total_voos')\n",
    "\n",
    "dados_para_grafico.to_csv('dados/refined/voos_clusterHora_sep_por_empresa.csv', index=False)"
   ]
  },
  {
   "cell_type": "code",
   "execution_count": null,
   "id": "0a51623f",
   "metadata": {},
   "outputs": [],
   "source": []
  },
  {
   "cell_type": "code",
   "execution_count": null,
   "id": "3eea5b80",
   "metadata": {},
   "outputs": [],
   "source": []
  }
 ],
 "metadata": {
  "kernelspec": {
   "display_name": "Python 3",
   "language": "python",
   "name": "python3"
  },
  "language_info": {
   "codemirror_mode": {
    "name": "ipython",
    "version": 3
   },
   "file_extension": ".py",
   "mimetype": "text/x-python",
   "name": "python",
   "nbconvert_exporter": "python",
   "pygments_lexer": "ipython3",
   "version": "3.12.10"
  }
 },
 "nbformat": 4,
 "nbformat_minor": 5
}
