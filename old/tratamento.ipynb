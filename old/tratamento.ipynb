{
 "cells": [
  {
   "cell_type": "markdown",
   "id": "e1e93fd6",
   "metadata": {},
   "source": [
    "### Atividade \n",
    "\n",
    "#### Parte Ivan\n",
    "\n",
    "- Criar arquivo terraform para criação de 3 buckets (raw, trusted e refined) e lambda para enviar arquivos de Raw para Trusted \n",
    "- Criar código para subir dados para bucket \n",
    "- criar código para enviar de lambda raw para trusted \n",
    "- Criar a rotina para reprocessamento\n",
    "- Entregar arquivo PDF com a descrição dos tratamento e particionamentos realizados \n",
    "- Entregar arquivo ZIP com os dados Tratados\n",
    "- Entregar arquivo ZIP com o script Python utilizado\n",
    "\n",
    "\n",
    "\n",
    "\n",
    "#### Parte Gustavo e Luis\n",
    "\n",
    "1) Separar quais arquivos cada um vai tratar\n",
    "\n",
    "2) Analisar os Arquivos e considerar as transformações necessárias para limpeza,\n",
    "padronização, enriquecimento de dados e reprocessamento dos dados \n",
    "- Sugestão de padronização no sumário abaixo (podém mudar o que preferirem, só alinhem entre si pois os arquivos tem que ter o mesmo tratamento)\n",
    "- Converter dados de latitude e longitude que estão em graus para decimais (se for o arquivo que tem essa coluna, o professor disponibilizou o codigo)\n",
    "- Somente considerar voos domésticos\n",
    " \n",
    "3) Os arquivos de Voos e de Reclamações precisam passar por tratamento para que\n",
    "sejam armazenados no Bucket Trusted de forma que facilitem reprocessamentos\n",
    "4) Particionar por mes, ou seja, criar um arquivo csv para cada mes, nesse formato que o professor pediu : \n",
    "- dados_voo_YYYYMM\n",
    "- reclamação_YYYYMM\n",
    "\n",
    "\n",
    "### Avisos:\n",
    "\n",
    "- Os arquivos csv são muito grandes para mandar p github então podem colocar em uma pasta chamada \"dados\", eu adicionei um .env que não vai mandar para o git, eu colocaria os dados em uma subpasta chamada raw e mandaria para outra subpasta chamada trusted, mas podem deixar que eu arrumo no final\n",
    "\n",
    "\n",
    "- Para acessar e rodar os arquivos ipynb usar a extensão do VSCode jupyter notebook da Microsoft\n",
    "- Esta Prática servirá de base para a nossa próxima aula\n",
    "- Para o tratamento dos dados podem usar como base o nosso arquivo tratamento.ipynb no github https://github.com/BeiraMar-G2/beira-mar-data-analytics tem muita coisa que pode ser reaproveitada\n",
    "- A Atividade pode ser feita em Grupo, não esqueça de informar Nome e RA\n",
    "- Entrega\n",
    "- Sugestão para nome de arquivo VOO_DOM_YYYYMM\n",
    "- Não esqueça de documentar também o reprocessamento dos arquivos dos meses\n",
    "de Novembro e Dezembro de 2024"
   ]
  },
  {
   "cell_type": "markdown",
   "id": "f9b6c13a",
   "metadata": {},
   "source": []
  },
  {
   "cell_type": "markdown",
   "id": "d395ad1e",
   "metadata": {},
   "source": [
    "### Sumário de padrões para tratamento de dados:\n",
    "\n",
    "- Data: DD/MM/YYYY\n",
    "\n",
    "- Data hora: DD/MM/YYYY HH:MM:SS\n",
    "\n",
    "- Binário: 0 ou 1\n",
    "\n",
    "- Strings e colunas: Maiusculas e sem acento: \n",
    "\n",
    "- Espaços: Manter apenas um espaço no intervalo entre palavras\n",
    "\n",
    "- Sexo: M e F\n",
    "\n",
    "- Delimitador: Vírgula\n"
   ]
  },
  {
   "cell_type": "code",
   "execution_count": 6,
   "id": "02ea4c77",
   "metadata": {},
   "outputs": [],
   "source": [
    "import math\n",
    "import pandas as pd \n",
    "import win32com.client as win32\n",
    "import unicodedata\n",
    "import os"
   ]
  },
  {
   "cell_type": "code",
   "execution_count": 7,
   "id": "6b224b6d",
   "metadata": {},
   "outputs": [
    {
     "name": "stdout",
     "output_type": "stream",
     "text": [
      "c:\\Users\\ivanm\\OneDrive - SPTech School\\SPTECH\\Materias\\2ANO\\2 Semestre\\Analise de Dados\\analise-de-voos\\dados\\raw\\Dados Atividade\\aerodromospublicos.xls\n"
     ]
    }
   ],
   "source": [
    "\n",
    "# Diretório onde o notebook está rodando\n",
    "base_dir = os.getcwd()\n",
    "\n",
    "caminho_xls = os.path.join(base_dir, \"dados\", \"raw\", \"Dados Atividade\", \"aerodromospublicos.xls\")\n",
    "caminho_xlsx = os.path.join(base_dir, \"dados\", \"raw\", \"Dados Atividade\", \"aerodromospublicos.xlsx\")\n",
    "\n",
    "print(caminho_xls)"
   ]
  },
  {
   "cell_type": "code",
   "execution_count": 8,
   "id": "ecb07a65",
   "metadata": {},
   "outputs": [
    {
     "name": "stdout",
     "output_type": "stream",
     "text": [
      "Conversão concluída: c:\\Users\\ivanm\\OneDrive - SPTech School\\SPTECH\\Materias\\2ANO\\2 Semestre\\Analise de Dados\\analise-de-voos\\dados\\raw\\Dados Atividade\\aerodromospublicos.xlsx\n"
     ]
    }
   ],
   "source": [
    "def converter_xls_para_xlsx(caminho_relativo_xls):\n",
    "    base_dir = os.getcwd()\n",
    "    arquivo_xls = os.path.join(base_dir, caminho_relativo_xls)\n",
    "    arquivo_xlsx = arquivo_xls.replace(\".xls\", \".xlsx\")\n",
    "    \n",
    "    excel = win32.gencache.EnsureDispatch('Excel.Application')\n",
    "    wb = excel.Workbooks.Open(arquivo_xls)\n",
    "    wb.SaveAs(arquivo_xlsx, FileFormat=51)  # 51 = formato xlsx\n",
    "    wb.Close()\n",
    "    excel.Application.Quit()\n",
    "\n",
    "    print(f\"Conversão concluída: {arquivo_xlsx}\")\n",
    "\n",
    "# Exemplo de uso\n",
    "converter_xls_para_xlsx(r\"dados\\raw\\Dados Atividade\\aerodromospublicos.xls\")"
   ]
  },
  {
   "cell_type": "code",
   "execution_count": 9,
   "id": "3394e544",
   "metadata": {},
   "outputs": [],
   "source": [
    "def dms_para_dd(graus, minutos, segundos, direcao):\n",
    "    \"\"\"\n",
    "    Converte coordenadas de Graus/Minutos/Segundos (DMS) para Graus Decimais (DD).\n",
    "    Exemplo: dms_para_dd(8, 20, 55, 'S') -> -8.348611\n",
    "    \"\"\"\n",
    "    decimal = graus + (minutos / 60) + (segundos / 3600)\n",
    "    if direcao in ['S', 'W']:\n",
    "        decimal = -decimal\n",
    "    return decimal\n",
    "\n",
    "\n",
    "def haversine(lat1, lon1, lat2, lon2):\n",
    "    \"\"\"\n",
    "    Calcula a distância entre dois pontos na Terra (em km)\n",
    "    a partir de suas coordenadas em graus decimais.\n",
    "    \"\"\"\n",
    "    R = 6371.0  # raio médio da Terra em km\n",
    "    \n",
    "    # Converter para radianos\n",
    "    lat1, lon1, lat2, lon2 = map(math.radians, [lat1, lon1, lat2, lon2])\n",
    "    \n",
    "    # Diferenças\n",
    "    dlat = lat2 - lat1\n",
    "    dlon = lon2 - lon1\n",
    "    \n",
    "    # Fórmula de Haversine\n",
    "    a = math.sin(dlat/2)**2 + math.cos(lat1) * math.cos(lat2) * math.sin(dlon/2)**2\n",
    "    c = 2 * math.asin(math.sqrt(a))\n",
    "    \n",
    "    return R * c\n"
   ]
  },
  {
   "cell_type": "code",
   "execution_count": 10,
   "id": "7c0fd9d7",
   "metadata": {},
   "outputs": [
    {
     "name": "stdout",
     "output_type": "stream",
     "text": [
      "\n",
      "Colunas do DataFrame aeroportos:\n",
      "['CODIGO_OACI', 'CIAD', 'NOME', 'MUNICIPIO_ATENDIDO', 'UF', 'LATITUDE', 'LONGITUDE', 'ALTITUDE', 'OPERACAO', 'OACI', 'AIP_BRASIL', 'DESIGNACAO', 'COMPRIMENTO', 'LARGURA', 'RESISTENCIA', 'SUPERFICIE', 'DESIGNACAO.1', 'COMPRIMENTO.1', 'LARGURA.1', 'RESISTENCIA.1', 'SUPERFICIE.1', 'DESIGNACAO.2', 'COMPRIMENTO.2', 'LARGURA.2', 'RESISTENCIA.2', 'SUPERFICIE.2', 'RAMPA(S)_DE_APROXIMACAO', 'FORMATO_DA_AREA_DE_POUSO', 'DIMENSOES', 'RESISTENCIA.3', 'SUPERFICIE.3', 'P1', 'P2', 'P3', 'P4', 'PORTARIAS', 'UNNAMED:_36', 'UNNAMED:_37', 'UNNAMED:_38', 'PORTARIA_NO_16.739/2025_E_ALTERACOES', 'PORTARIA_NO_11.183/2023\\nA_CLASSE_I_SE_DIVIDE_AINDA_EM_RBAC_121,_RBAC_135_REGULAR_E_OUTRAS_OPERACOES', 'PORTARIA_NO_2007/2014_E_ALTERACOES\\n(*_=_REGIME_TARIFARIO_DIFERENCIADO)', 'AERONAVE_CRITICA', 'TIPO_DE_APROX._(CABECEIRAS)', 'FREQ._SEMANAL', 'R1', 'R2', 'REFERENCIA(S)', 'RESTRICAO(OES)', 'SITUACAO', 'R1.1', 'REFERENCIA', 'SITUADO_NA_AMAZONIA_LEGAL', 'OBSERVACOES']\n",
      "\n",
      "Colunas do DataFrame empresas:\n",
      "['RAZAO_SOCIAL', 'ICAO', 'IATA', 'REPRESENTANTE_LEGAL', 'PAIS_SEDE', 'CNPJ', 'ENDERECO', 'CIDADE', 'UF', 'CEP', 'TELEFONE', 'E-MAIL', 'DECISAO_OPERACIONAL', 'ATIVIDADES_AEREAS', 'DATA_DECISAO_OPERACIONAL', 'VALIDADE_OPERACIONAL', 'ID_EMPRESA_AEREA']\n",
      "\n",
      "Exemplo dos dados após remoção de acentos:\n",
      "\n",
      "Aeroportos:\n",
      "  CODIGO_OACI    CIAD                         NOME     MUNICIPIO_ATENDIDO  UF  \\\n",
      "0        SBAA  PA0008        CONCEICAO DO ARAGUAIA  CONCEICAO DO ARAGUAIA  PA   \n",
      "1        SBAE  SP0010                BAURU/AREALVA                  BAURU  SP   \n",
      "2        SBAQ  SP0012         BARTOLOMEU DE GUSMAO             ARARAQUARA  SP   \n",
      "3        SBAR  SE0001                  SANTA MARIA                ARACAJU  SE   \n",
      "4        SBAT  MT0003  PILOTO OSVALDO MARQUES DIAS          ALTA FLORESTA  MT   \n",
      "\n",
      "         LATITUDE       LONGITUDE ALTITUDE  \\\n",
      "0   8° 20' 55'' S  49° 18' 11'' W    199 M   \n",
      "1   22° 9' 28'' S    49° 4' 6'' W    598 M   \n",
      "2  21° 48' 43'' S   48° 7' 59'' W    711 M   \n",
      "3   10° 59' 7'' S   37° 4' 24'' W      7 M   \n",
      "4   9° 51' 59'' S   56° 6' 18'' W    289 M   \n",
      "\n",
      "                                  OPERACAO OACI  ... FREQ._SEMANAL  \\\n",
      "0          VFR DIURNO/NOTURNO E IFR DIURNO    -  ...             -   \n",
      "1  VFR DIURNO/NOTURNO E IFR DIURNO/NOTURNO    -  ...             -   \n",
      "2  VFR DIURNO/NOTURNO E IFR DIURNO/NOTURNO    -  ...             -   \n",
      "3  VFR DIURNO/NOTURNO E IFR DIURNO/NOTURNO   RS  ...           NaN   \n",
      "4  VFR DIURNO/NOTURNO E IFR DIURNO/NOTURNO    -  ...             -   \n",
      "\n",
      "                                        R1 R2  \\\n",
      "0                                        -  -   \n",
      "1                                        -  -   \n",
      "2                                        -  -   \n",
      "3  PA2022-7303 / PA2020-0406 / PA2021-4220  -   \n",
      "4                                        -  -   \n",
      "\n",
      "                             REFERENCIA(S) RESTRICAO(OES)  \\\n",
      "0                                        -              -   \n",
      "1                                        -              -   \n",
      "2                                        -              -   \n",
      "3  PA2022-7303 / PA2020-0406 / PA2021-4220              -   \n",
      "4                                        -              -   \n",
      "\n",
      "                                            SITUACAO         R1.1  \\\n",
      "0  PROIBICAO DE OPERACOES DE POUSO DE AERONAVES D...  PA2019-1362   \n",
      "1                                                  -            -   \n",
      "2                                                  -            -   \n",
      "3                                                  -            -   \n",
      "4                                                  -            -   \n",
      "\n",
      "    REFERENCIA SITUADO_NA_AMAZONIA_LEGAL OBSERVACOES  \n",
      "0  PA2019-1362                         X           -  \n",
      "1            -                       NaN           -  \n",
      "2            -                       NaN           -  \n",
      "3            -                       NaN           -  \n",
      "4            -                         X           -  \n",
      "\n",
      "[5 rows x 54 columns]\n",
      "\n",
      "Empresas:\n",
      "                           RAZAO_SOCIAL ICAO IATA REPRESENTANTE_LEGAL  \\\n",
      "0                           21 AIR, LLC  CSB   2P   VANDERLEI MORELLI   \n",
      "1       2 PILOTOS AVIACAO AGRICOLA LTDA  NaN  NaN                 NaN   \n",
      "2             A2 AVIACAO AGRICOLA LTDA.  NaN   ..                 NaN   \n",
      "3  ABELHA TAXI AEREO E MANUTENCAO LTDA.  NaN   ..                 NaN   \n",
      "4    ABSA - AEROLINHAS BRASILEIRAS S.A.  LTG   M3                 NaN   \n",
      "\n",
      "                   PAIS_SEDE                 CNPJ  \\\n",
      "0  ESTADOS UNIDOS DA AMERICA   00.000.000/0000-00   \n",
      "1                     BRASIL   49.683.649/0001-43   \n",
      "2                     BRASIL   22.499.581/0001-90   \n",
      "3                     BRASIL   24.702.862/0001-24   \n",
      "4                     BRASIL   00.074.635/0001-33   \n",
      "\n",
      "                                            ENDERECO         CIDADE  UF  \\\n",
      "0  AV. FRANCISCO GLICERIO , 2331 – TERREO -  SALA...       CAMPINAS  SP   \n",
      "1  RUA 44, SN, QUADRA 67 LOTE 33 SALA 01  JARDIM ...      ARAGUAINA  TO   \n",
      "2  RODOVIA MT 208, NO 715, SALA II, ANEXO A ARADO...  ALTA FLORESTA  MT   \n",
      "3  AV. GOV. PONCE A VIACUDA, S/NO - APTO. MARECHA...  VARZEA GRANDE  MT   \n",
      "4  AEROPORTO INTERNACIONAL DE VIRACOPOS, RODOVIA ...       CAMPINAS  SP   \n",
      "\n",
      "           CEP                                      TELEFONE  \\\n",
      "0   13.023-101                               (19) 99596-9494   \n",
      "1   77.820-214                                             .   \n",
      "2   78.580-000                                (66) 992477501   \n",
      "3   78.110-900  (65) 3682-2389 - RAMAL 207 E 208 / 9972-9344   \n",
      "4   13.052-970                                (11) 5582-8055   \n",
      "\n",
      "                                              E-MAIL  \\\n",
      "0  PERMIT.BRAZIL@GMAIL.COM MORELLIVANDERLEI@GMAIL...   \n",
      "1                          2PILOTOSAVIACAO@GMAIL.COM   \n",
      "2                              A2@SUPREMAAGRO.COM.BR   \n",
      "3                               CTM@VOEABELHA.COM.BR   \n",
      "4                                     GAR@TAM.COM.BR   \n",
      "\n",
      "                                 DECISAO_OPERACIONAL  \\\n",
      "0  OFICIO NO 190/2024/GEAM EMPRESAS/GEAM/SAS-ANAC...   \n",
      "1          PORTARIA NO 14.774, DE 7 DE JUNHO DE 2024   \n",
      "2           PORTARIA NO 7867, DE 26 DE ABRIL DE 2022   \n",
      "3            PORTARIA NO 7994, DE 10 DE MAIO DE 2022   \n",
      "4         PORTARIA NO 9429, DE 05 DE OUTUBRO DE 2022   \n",
      "\n",
      "                                   ATIVIDADES_AEREAS DATA_DECISAO_OPERACIONAL  \\\n",
      "0                            ESTRANGEIRA NAO REGULAR               2024-12-16   \n",
      "1                                       AEROAGRICOLA               2024-06-11   \n",
      "2             AEROAGRICOLA, SERVICOS AEREOS PUBLICOS               2022-04-26   \n",
      "3                             AEROMEDICO, TAXI-AEREO               2022-05-10   \n",
      "4  TRANSPORTE AEREO NAO REGULAR, TRANSPORTE AEREO...               2022-10-10   \n",
      "\n",
      "  VALIDADE_OPERACIONAL  ID_EMPRESA_AEREA  \n",
      "0           2025-11-01           1007093  \n",
      "1                  NaT           1007649  \n",
      "2                  NaT           1001209  \n",
      "3                  NaT           1001163  \n",
      "4                  NaT           1000641  \n"
     ]
    }
   ],
   "source": [
    "def remover_acentos(texto):\n",
    "    \"\"\"Remove acentos de um texto e converte para maiúsculas\"\"\"\n",
    "    if isinstance(texto, str):\n",
    "        # Normaliza o texto (decompõe caracteres acentuados)\n",
    "        texto = unicodedata.normalize('NFKD', texto)\n",
    "        # Remove os diacríticos (acentos)\n",
    "        texto = u\"\".join([c for c in texto if not unicodedata.combining(c)])\n",
    "        # Converte para maiúsculas\n",
    "        return texto.upper()\n",
    "    return texto\n",
    "\n",
    "# Carregar os dados\n",
    "aeroportos = pd.read_excel(r\"dados\\raw\\Dados Atividade\\aerodromospublicos.xlsx\", engine=\"openpyxl\", skiprows=2)\n",
    "empresas = pd.read_excel(r\"dados\\raw\\Dados Atividade\\Empresas Aereas.xlsx\", engine=\"openpyxl\")\n",
    "\n",
    "# Padronizar nomes das colunas (maiúsculo, sem acentos, sem espaços)\n",
    "aeroportos.columns = [remover_acentos(col.strip().replace(\" \", \"_\")) for col in aeroportos.columns]\n",
    "empresas.columns = [remover_acentos(col.strip().replace(\" \", \"_\")) for col in empresas.columns]\n",
    "\n",
    "# Aplicar a função em todas as colunas do tipo objeto (texto)\n",
    "for col in aeroportos.select_dtypes(include=['object']).columns:\n",
    "    aeroportos[col] = aeroportos[col].apply(remover_acentos)\n",
    "\n",
    "for col in empresas.select_dtypes(include=['object']).columns:\n",
    "    empresas[col] = empresas[col].apply(remover_acentos)\n",
    "\n",
    "print(\"\\nColunas do DataFrame aeroportos:\")\n",
    "print(aeroportos.columns.tolist())\n",
    "print(\"\\nColunas do DataFrame empresas:\")\n",
    "print(empresas.columns.tolist())\n",
    "\n",
    "print(\"\\nExemplo dos dados após remoção de acentos:\")\n",
    "print(\"\\nAeroportos:\")\n",
    "print(aeroportos.head())\n",
    "print(\"\\nEmpresas:\")\n",
    "print(empresas.head())"
   ]
  },
  {
   "cell_type": "code",
   "execution_count": 11,
   "id": "429c228e",
   "metadata": {},
   "outputs": [
    {
     "name": "stdout",
     "output_type": "stream",
     "text": [
      "\n",
      "Primeiros registros com coordenadas convertidas:\n",
      "                          NOME   LATITUDE  LONGITUDE\n",
      "0        CONCEICAO DO ARAGUAIA  -8.348611 -49.303056\n",
      "1                BAURU/AREALVA -22.157778 -49.068333\n",
      "2         BARTOLOMEU DE GUSMAO -21.811944 -48.133056\n",
      "3                  SANTA MARIA -10.985278 -37.073333\n",
      "4  PILOTO OSVALDO MARQUES DIAS  -9.866389 -56.105000\n"
     ]
    }
   ],
   "source": [
    "# Função auxiliar para extrair valores de coordenadas em formato DMS\n",
    "def extrair_dms(coord_str):\n",
    "    \"\"\"Extrai graus, minutos, segundos e direção de uma string no formato '8° 20' 55'' S'\"\"\"\n",
    "    import re\n",
    "    \n",
    "    # Extrair números e direção\n",
    "    match = re.match(r\"(\\d+)° (\\d+)' (\\d+)'' ([NSWE])\", coord_str)\n",
    "    if match:\n",
    "        graus = int(match.group(1))\n",
    "        minutos = int(match.group(2))\n",
    "        segundos = int(match.group(3))\n",
    "        direcao = match.group(4)\n",
    "        return dms_para_dd(graus, minutos, segundos, direcao)\n",
    "    return None\n",
    "\n",
    "# Converter coordenadas sobrescrevendo as colunas existentes\n",
    "if \"LATITUDE\" in aeroportos.columns and \"LONGITUDE\" in aeroportos.columns:\n",
    "    aeroportos[\"LATITUDE\"] = aeroportos[\"LATITUDE\"].apply(extrair_dms)\n",
    "    aeroportos[\"LONGITUDE\"] = aeroportos[\"LONGITUDE\"].apply(extrair_dms)\n",
    "    \n",
    "print(\"\\nPrimeiros registros com coordenadas convertidas:\")\n",
    "print(aeroportos[[\"NOME\", \"LATITUDE\", \"LONGITUDE\"]].head())"
   ]
  },
  {
   "cell_type": "code",
   "execution_count": 12,
   "id": "a20964ea",
   "metadata": {},
   "outputs": [],
   "source": [
    "if \"tipo_voo\" in empresas.columns:\n",
    "    empresas_domesticas = empresas[empresas[\"tipo_voo\"] == \"DOMESTICO\"]\n",
    "else:\n",
    "    empresas_domesticas = empresas.copy()"
   ]
  },
  {
   "cell_type": "code",
   "execution_count": 13,
   "id": "67d5e836",
   "metadata": {},
   "outputs": [],
   "source": [
    "if {\"latitude\", \"longitude\"}.issubset(aeroportos.columns):\n",
    "    # Usar as coordenadas convertidas\n",
    "    lat1 = aeroportos.loc[0, \"latitude\"]\n",
    "    lon1 = aeroportos.loc[0, \"longitude\"]\n",
    "    lat2 = aeroportos.loc[1, \"latitude\"]\n",
    "    lon2 = aeroportos.loc[1, \"longitude\"]\n",
    "    \n",
    "    distancia = haversine(lat1, lon1, lat2, lon2)\n",
    "    print(f\"Distância entre {aeroportos.loc[0,'nome']} e {aeroportos.loc[1,'nome']}: {distancia:.2f} km\")"
   ]
  },
  {
   "cell_type": "code",
   "execution_count": 14,
   "id": "7ce2a170",
   "metadata": {},
   "outputs": [
    {
     "name": "stdout",
     "output_type": "stream",
     "text": [
      "Tipos de dados das colunas:\n",
      "LATITUDE     float64\n",
      "LONGITUDE    float64\n",
      "dtype: object\n",
      "\n",
      "Primeiros registros:\n",
      "                          NOME   LATITUDE  LONGITUDE\n",
      "0        CONCEICAO DO ARAGUAIA  -8.348611 -49.303056\n",
      "1                BAURU/AREALVA -22.157778 -49.068333\n",
      "2         BARTOLOMEU DE GUSMAO -21.811944 -48.133056\n",
      "3                  SANTA MARIA -10.985278 -37.073333\n",
      "4  PILOTO OSVALDO MARQUES DIAS  -9.866389 -56.105000\n"
     ]
    }
   ],
   "source": [
    "# Debugging: verificar os valores e tipos de dados\n",
    "print(\"Tipos de dados das colunas:\")\n",
    "print(aeroportos[[\"LATITUDE\", \"LONGITUDE\"]].dtypes)\n",
    "print(\"\\nPrimeiros registros:\")\n",
    "print(aeroportos[[\"NOME\", \"LATITUDE\", \"LONGITUDE\"]].head())"
   ]
  },
  {
   "cell_type": "code",
   "execution_count": 18,
   "id": "ae3271b1",
   "metadata": {},
   "outputs": [
    {
     "name": "stdout",
     "output_type": "stream",
     "text": [
      "✅ Tratamento concluído! Arquivos exportados:\n",
      "- dados/trusted/empresas_aereas/aeroportos_tratados.xlsx\n",
      "- dados/trusted/empresas_aereas/empresas_domesticas_tratadas.xlsx\n"
     ]
    }
   ],
   "source": [
    "aeroportos.to_excel(\"dados/trusted/empresas_aereas/aeroportos_tratados.xlsx\", index=False)\n",
    "empresas_domesticas.to_excel(\"dados/trusted/empresas_aereas/empresas_domesticas_tratadas.xlsx\", index=False)\n",
    "\n",
    "print(\"✅ Tratamento concluído! Arquivos exportados:\")\n",
    "print(\"- dados/trusted/empresas_aereas/aeroportos_tratados.xlsx\")\n",
    "print(\"- dados/trusted/empresas_aereas/empresas_domesticas_tratadas.xlsx\")"
   ]
  },
  {
   "cell_type": "markdown",
   "id": "68e03329",
   "metadata": {},
   "source": [
    "## Tratamento - dadosconsumidor2024.csv e VRA_2024.csv\n",
    "\n"
   ]
  },
  {
   "cell_type": "code",
   "execution_count": 19,
   "id": "00b115ed",
   "metadata": {},
   "outputs": [
    {
     "name": "stdout",
     "output_type": "stream",
     "text": [
      "✅ Bibliotecas carregadas e função auxiliar definida!\n"
     ]
    }
   ],
   "source": [
    "\n",
    "def limpar_texto(texto):\n",
    "    \"\"\"Remove acentos, converte para maiúscula e limpa espaços\"\"\"\n",
    "    if not isinstance(texto, str) or texto == 'nan':\n",
    "        return texto\n",
    "    texto = unicodedata.normalize('NFKD', texto)\n",
    "    texto = ''.join(c for c in texto if not unicodedata.combining(c))\n",
    "    return texto.upper().strip()\n",
    "\n",
    "print(\"✅ Bibliotecas carregadas e função auxiliar definida!\")"
   ]
  },
  {
   "cell_type": "code",
   "execution_count": 21,
   "id": "27f67921",
   "metadata": {},
   "outputs": [
    {
     "name": "stdout",
     "output_type": "stream",
     "text": [
      " Processando reclamações...\n",
      " 82136 reclamações aéreas processadas\n"
     ]
    }
   ],
   "source": [
    "# TRATAMENTO - RECLAMAÇÕES\n",
    "print(\" Processando reclamações...\")\n",
    "\n",
    "# Carregar e tratar em uma etapa\n",
    "reclamacoes = pd.read_csv(\n",
    "    r\"dados\\raw\\Dados Atividade\\dadosconsumidor2024.csv\", \n",
    "    sep=';', encoding='utf-8', skiprows=1\n",
    ")\n",
    "# Padronizar colunas e dados\n",
    "reclamacoes.columns = [limpar_texto(col.replace(' ', '_')) for col in reclamacoes.columns]\n",
    "\n",
    "# Aplicar limpeza apenas em colunas de texto (exceto datas)\n",
    "for col in reclamacoes.select_dtypes(include=['object']).columns:\n",
    "    if not any(x in col.lower() for x in ['data', 'hora']):\n",
    "        reclamacoes[col] = reclamacoes[col].apply(limpar_texto)\n",
    "\n",
    "# Converter datas\n",
    "date_cols = [col for col in reclamacoes.columns if 'DATA' in col]\n",
    "for col in date_cols:\n",
    "    if 'HORA' in col:\n",
    "        reclamacoes[col] = pd.to_datetime(reclamacoes[col], errors='coerce').dt.strftime('%d/%m/%Y %H:%M:%S')\n",
    "    else:\n",
    "        reclamacoes[col] = pd.to_datetime(reclamacoes[col], errors='coerce').dt.strftime('%d/%m/%Y')\n",
    "\n",
    "# Filtrar apenas dados aéreos\n",
    "aereo = reclamacoes[(reclamacoes['AREA'] == 'TRANSPORTES') & (reclamacoes['ASSUNTO'] == 'AEREO')].copy()\n",
    "\n",
    "print(f\" {len(aereo)} reclamações aéreas processadas\")"
   ]
  },
  {
   "cell_type": "code",
   "execution_count": 22,
   "id": "24c678ea",
   "metadata": {},
   "outputs": [
    {
     "name": "stdout",
     "output_type": "stream",
     "text": [
      " Processando voos...\n"
     ]
    },
    {
     "name": "stderr",
     "output_type": "stream",
     "text": [
      "C:\\Users\\ivanm\\AppData\\Local\\Temp\\ipykernel_31040\\3564994838.py:5: DtypeWarning: Columns (3,6,16) have mixed types. Specify dtype option on import or set low_memory=False.\n",
      "  voos = pd.read_csv(\n",
      "C:\\Users\\ivanm\\AppData\\Local\\Temp\\ipykernel_31040\\3564994838.py:21: UserWarning: Could not infer format, so each element will be parsed individually, falling back to `dateutil`. To ensure parsing is consistent and as-expected, please specify a format.\n",
      "  voos[col] = pd.to_datetime(voos[col], errors='coerce').dt.strftime('%d/%m/%Y %H:%M:%S')\n",
      "C:\\Users\\ivanm\\AppData\\Local\\Temp\\ipykernel_31040\\3564994838.py:21: UserWarning: Could not infer format, so each element will be parsed individually, falling back to `dateutil`. To ensure parsing is consistent and as-expected, please specify a format.\n",
      "  voos[col] = pd.to_datetime(voos[col], errors='coerce').dt.strftime('%d/%m/%Y %H:%M:%S')\n"
     ]
    },
    {
     "name": "stdout",
     "output_type": "stream",
     "text": [
      " 78640 voos domésticos processados (78.6%)\n"
     ]
    }
   ],
   "source": [
    "# TRATAMENTO COMPLETO - VOOS\n",
    "print(\" Processando voos...\")\n",
    "\n",
    "# Carregar voos \n",
    "voos = pd.read_csv(\n",
    "    r\"dados\\raw\\Dados Atividade\\VRA_2024.csv\", \n",
    "    sep=';', encoding='utf-8', nrows=100000  # Limitar para demonstração\n",
    ")\n",
    "\n",
    "# Padronizar colunas\n",
    "voos.columns = [limpar_texto(col.replace(' ', '_')) for col in voos.columns]\n",
    "\n",
    "# Aplicar limpeza em colunas de texto (exceto datas)\n",
    "for col in voos.select_dtypes(include=['object']).columns:\n",
    "    if not any(x in col.lower() for x in ['partida', 'chegada', 'prevista', 'real']):\n",
    "        voos[col] = voos[col].apply(limpar_texto)\n",
    "\n",
    "# Converter datas/horas\n",
    "datetime_cols = [col for col in voos.columns if any(x in col.upper() for x in ['PARTIDA', 'CHEGADA'])]\n",
    "for col in datetime_cols:\n",
    "    voos[col] = pd.to_datetime(voos[col], errors='coerce').dt.strftime('%d/%m/%Y %H:%M:%S')\n",
    "\n",
    "# Filtrar voos domésticos (códigos ICAO brasileiros começam com 'SB')\n",
    "domesticos = voos[\n",
    "    (voos['SIGLA_ICAO_AEROPORTO_ORIGEM'].str.startswith('SB', na=False)) &\n",
    "    (voos['SIGLA_ICAO_AEROPORTO_DESTINO'].str.startswith('SB', na=False))\n",
    "].copy()\n",
    "\n",
    "print(f\" {len(domesticos)} voos domésticos processados ({len(domesticos)/len(voos)*100:.1f}%)\")"
   ]
  },
  {
   "cell_type": "code",
   "execution_count": 24,
   "id": "97bd313d",
   "metadata": {},
   "outputs": [
    {
     "name": "stdout",
     "output_type": "stream",
     "text": [
      " Iniciando particionamento mensal...\n",
      " dados\\trusted\\reclamacoes\\reclamacao_202401.csv: 7168 registros\n",
      " dados\\trusted\\reclamacoes\\reclamacao_202402.csv: 5878 registros\n",
      " dados\\trusted\\reclamacoes\\reclamacao_202403.csv: 6043 registros\n",
      " dados\\trusted\\reclamacoes\\reclamacao_202404.csv: 6334 registros\n",
      " dados\\trusted\\reclamacoes\\reclamacao_202405.csv: 8106 registros\n",
      " dados\\trusted\\reclamacoes\\reclamacao_202406.csv: 6944 registros\n",
      " dados\\trusted\\reclamacoes\\reclamacao_202407.csv: 6538 registros\n",
      " dados\\trusted\\reclamacoes\\reclamacao_202408.csv: 6839 registros\n",
      " dados\\trusted\\reclamacoes\\reclamacao_202409.csv: 6399 registros\n",
      " dados\\trusted\\reclamacoes\\reclamacao_202410.csv: 7522 registros\n",
      " dados\\trusted\\reclamacoes\\reclamacao_202411.csv: 7511 registros\n",
      " dados\\trusted\\reclamacoes\\reclamacao_202412.csv: 6854 registros\n",
      " dados\\trusted\\voos\\dados_voo_202401.csv: 2631 registros\n",
      " dados\\trusted\\voos\\dados_voo_202402.csv: 3105 registros\n",
      " dados\\trusted\\voos\\dados_voo_202403.csv: 3042 registros\n",
      " dados\\trusted\\voos\\dados_voo_202404.csv: 3013 registros\n",
      " dados\\trusted\\voos\\dados_voo_202405.csv: 3063 registros\n",
      " dados\\trusted\\voos\\dados_voo_202406.csv: 2794 registros\n",
      " dados\\trusted\\voos\\dados_voo_202407.csv: 2926 registros\n",
      " dados\\trusted\\voos\\dados_voo_202408.csv: 3053 registros\n",
      " dados\\trusted\\voos\\dados_voo_202409.csv: 3076 registros\n",
      " dados\\trusted\\voos\\dados_voo_202410.csv: 2991 registros\n",
      " dados\\trusted\\voos\\dados_voo_202411.csv: 2492 registros\n",
      " dados\\trusted\\voos\\dados_voo_202412.csv: 2227 registros\n",
      "\n",
      " RESUMO: 12 reclamações + 12 voos = 24 arquivos\n"
     ]
    }
   ],
   "source": [
    "\n",
    "# PARTICIONAMENTO MENSAL\n",
    "print(\" Iniciando particionamento mensal...\")\n",
    "\n",
    "def particionar_por_mes(df, nome_base, coluna_data, formato_data='%d/%m/%Y'):\n",
    "    \"\"\"Função para particionar dados por mês em pastas específicas\"\"\"\n",
    "    df_temp = df.copy()\n",
    "    df_temp['DATA_TEMP'] = pd.to_datetime(df_temp[coluna_data], format=formato_data, errors='coerce')\n",
    "    df_temp = df_temp.dropna(subset=['DATA_TEMP'])\n",
    "    df_temp['ANO_MES'] = df_temp['DATA_TEMP'].dt.strftime('%Y%m')\n",
    "    \n",
    "    # Definir pasta de saída com base no nome_base\n",
    "    if 'reclamacao' in nome_base.lower():\n",
    "        pasta_destino = os.path.join(\"dados\", \"trusted\", \"reclamacoes\")\n",
    "    else:\n",
    "        pasta_destino = os.path.join(\"dados\", \"trusted\", \"voos\")\n",
    "    \n",
    "    # Criar pasta caso não exista\n",
    "    os.makedirs(pasta_destino, exist_ok=True)\n",
    "\n",
    "    arquivos = []\n",
    "    for mes in sorted(df_temp['ANO_MES'].unique()):\n",
    "        dados_mes = df_temp[df_temp['ANO_MES'] == mes].drop(['DATA_TEMP', 'ANO_MES'], axis=1)\n",
    "        nome_arquivo = f\"{nome_base}_{mes}.csv\"\n",
    "        caminho_arquivo = os.path.join(pasta_destino, nome_arquivo)\n",
    "        dados_mes.to_csv(caminho_arquivo, index=False, sep=',', encoding='utf-8')\n",
    "        arquivos.append(caminho_arquivo)\n",
    "        print(f\" {caminho_arquivo}: {len(dados_mes)} registros\")\n",
    "    \n",
    "    return arquivos\n",
    "\n",
    "# Particionar reclamações\n",
    "coluna_data_rec = next((col for col in aereo.columns if 'DATA' in col), None)\n",
    "rec_files = particionar_por_mes(aereo, 'reclamacao', coluna_data_rec)\n",
    "\n",
    "# Particionar voos \n",
    "coluna_data_voo = 'PARTIDA_PREVISTA' if 'PARTIDA_PREVISTA' in domesticos.columns else 'PARTIDA_REAL'\n",
    "voo_files = particionar_por_mes(domesticos, 'dados_voo', coluna_data_voo, '%d/%m/%Y %H:%M:%S')\n",
    "\n",
    "print(f\"\\n RESUMO: {len(rec_files)} reclamações + {len(voo_files)} voos = {len(rec_files) + len(voo_files)} arquivos\")\n"
   ]
  }
 ],
 "metadata": {
  "kernelspec": {
   "display_name": "Python 3",
   "language": "python",
   "name": "python3"
  },
  "language_info": {
   "codemirror_mode": {
    "name": "ipython",
    "version": 3
   },
   "file_extension": ".py",
   "mimetype": "text/x-python",
   "name": "python",
   "nbconvert_exporter": "python",
   "pygments_lexer": "ipython3",
   "version": "3.12.10"
  }
 },
 "nbformat": 4,
 "nbformat_minor": 5
}
