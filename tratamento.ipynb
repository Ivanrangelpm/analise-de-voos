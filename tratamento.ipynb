{
 "cells": [
  {
   "cell_type": "code",
   "execution_count": 1,
   "id": "02ea4c77",
   "metadata": {},
   "outputs": [],
   "source": [
    "import math"
   ]
  },
  {
   "cell_type": "markdown",
   "id": "e1e93fd6",
   "metadata": {},
   "source": [
    "### Atividade \n",
    "\n",
    "#### Parte Ivan\n",
    "\n",
    "- Criar arquivo terraform para criação de 3 buckets (raw, trusted e refined) e lambda para enviar arquivos de Raw para Trusted \n",
    "- Criar código para subir dados para bucket \n",
    "- criar código para enviar de lambda raw para trusted \n",
    "- Criar a rotina para reprocessamento\n",
    "- Entregar arquivo PDF com a descrição dos tratamento e particionamentos realizados \n",
    "- Entregar arquivo ZIP com os dados Tratados\n",
    "- Entregar arquivo ZIP com o script Python utilizado\n",
    "\n",
    "\n",
    "\n",
    "\n",
    "#### Parte Gustavo e Luis\n",
    "\n",
    "1) Separar quais arquivos cada um vai tratar\n",
    "\n",
    "2) Analisar os Arquivos e considerar as transformações necessárias para limpeza,\n",
    "padronização, enriquecimento de dados e reprocessamento dos dados \n",
    "- Converter dados de latitude e longitude que estão em graus para decimais (se for o arquivo que tem essa coluna, o professor disponibilizou o codigo)\n",
    "- Somente considerar voos domésticos\n",
    " \n",
    "3) Os arquivos de Voos e de Reclamações precisam passar por tratamento para que\n",
    "sejam armazenados no Bucket Trusted de forma que facilitem reprocessamentos\n",
    "4) Particionar por mes, ou seja, criar um arquivo csv para cada mes, nesse formato que o professor pediu : \n",
    "- dados_voo_YYYYMM\n",
    "- reclamação_YYYYMM\n",
    "\n",
    "\n",
    "### Avisos:\n",
    "\n",
    "- Para acessar e rodar os arquivos ipynb usar a extensão do VSCode jupyter notebook da Microsoft\n",
    "- Esta Prática servirá de base para a nossa próxima aula\n",
    "- A Atividade pode ser feita em Grupo, não esqueça de informar Nome e RA\n",
    "- Entrega\n",
    "- Sugestão para nome de arquivo VOO_DOM_YYYYMM\n",
    "- Não esqueça de documentar também o reprocessamento dos arquivos dos meses\n",
    "de Novembro e Dezembro de 2024"
   ]
  },
  {
   "cell_type": "markdown",
   "id": "f9b6c13a",
   "metadata": {},
   "source": []
  },
  {
   "cell_type": "code",
   "execution_count": 2,
   "id": "a20964ea",
   "metadata": {},
   "outputs": [
    {
     "name": "stdout",
     "output_type": "stream",
     "text": [
      "A distância entre os aeroportos é 7664.10 km\n"
     ]
    }
   ],
   "source": [
    "\n",
    "def haversine(lat1, lon1, lat2, lon2):\n",
    "    # Raio da Terra em km\n",
    "    R = 6371.0\n",
    "    \n",
    "    # Converter de graus para radianos\n",
    "    lat1 = math.radians(lat1)\n",
    "    lon1 = math.radians(lon1)\n",
    "    lat2 = math.radians(lat2)\n",
    "    lon2 = math.radians(lon2)\n",
    "    \n",
    "    # Diferença de coordenadas\n",
    "    dlat = lat2 - lat1\n",
    "    dlon = lon2 - lon1\n",
    "    \n",
    "    # Fórmula de Haversine\n",
    "    a = math.sin(dlat / 2)**2 + math.cos(lat1) * math.cos(lat2) * math.sin(dlon / 2)**2\n",
    "    c = 2 * math.asin(math.sqrt(a))\n",
    "    \n",
    "    # Distância\n",
    "    distance = R * c\n",
    "    return distance\n",
    "\n",
    "# Exemplo de uso\n",
    "lat_aeroporto1 = -23.4356  # Latitude do Aeroporto de Guarulhos (GRU)\n",
    "lon_aeroporto1 = -46.4731  # Longitude do Aeroporto de Guarulhos (GRU)\n",
    "lat_aeroporto2 = 40.6413   # Latitude do Aeroporto JFK (JFK)\n",
    "lon_aeroporto2 = -73.7781  # Longitude do Aeroporto JFK (JFK)\n",
    "\n",
    "distancia = haversine(lat_aeroporto1, lon_aeroporto1, lat_aeroporto2, lon_aeroporto2)\n",
    "print(f\"A distância entre os aeroportos é {distancia:.2f} km\")"
   ]
  },
  {
   "cell_type": "code",
   "execution_count": 4,
   "id": "67d5e836",
   "metadata": {},
   "outputs": [
    {
     "name": "stdout",
     "output_type": "stream",
     "text": [
      "Latitude em graus decimais: -8.348611111111111\n",
      "Longitude em graus decimais: -49.30305555555555\n"
     ]
    },
    {
     "data": {
      "text/plain": [
       "\"A função dms_para_dd recebe os valores de graus, minutos, segundos e a direção (N/S para latitude e E/W para longitude).\\nConverte esses valores para graus decimais e aplica o sinal negativo se a direção for Sul (S) ou Oeste (W).\\nNo exemplo, são usadas as coordenadas fornecidas: 8° 20' 55'' S e 49° 18' 11'' W.\""
      ]
     },
     "execution_count": 4,
     "metadata": {},
     "output_type": "execute_result"
    }
   ],
   "source": [
    "\n",
    "def dms_para_dd(graus, minutos, segundos, direcao):\n",
    "    # Converter para graus decimais\n",
    "    decimal = graus + (minutos / 60) + (segundos / 3600)\n",
    "    \n",
    "    # Ajustar o sinal para Sul e Oeste\n",
    "    if direcao in ['S', 'W']:\n",
    "        decimal = -decimal\n",
    "    \n",
    "    return decimal\n",
    "\n",
    "# Exemplo de uso\n",
    "latitude_dd = dms_para_dd(8, 20, 55, 'S')\n",
    "longitude_dd = dms_para_dd(49, 18, 11, 'W')\n",
    "\n",
    "print(f\"Latitude em graus decimais: {latitude_dd}\")\n",
    "print(f\"Longitude em graus decimais: {longitude_dd}\")\n",
    "\n",
    "\n",
    "'''A função dms_para_dd recebe os valores de graus, minutos, segundos e a direção (N/S para latitude e E/W para longitude).\n",
    "Converte esses valores para graus decimais e aplica o sinal negativo se a direção for Sul (S) ou Oeste (W).\n",
    "No exemplo, são usadas as coordenadas fornecidas: 8° 20' 55'' S e 49° 18' 11'' W.'''"
   ]
  },
  {
   "cell_type": "code",
   "execution_count": null,
   "id": "ae3271b1",
   "metadata": {},
   "outputs": [],
   "source": []
  }
 ],
 "metadata": {
  "kernelspec": {
   "display_name": "Python 3",
   "language": "python",
   "name": "python3"
  },
  "language_info": {
   "codemirror_mode": {
    "name": "ipython",
    "version": 3
   },
   "file_extension": ".py",
   "mimetype": "text/x-python",
   "name": "python",
   "nbconvert_exporter": "python",
   "pygments_lexer": "ipython3",
   "version": "3.12.3"
  }
 },
 "nbformat": 4,
 "nbformat_minor": 5
}
