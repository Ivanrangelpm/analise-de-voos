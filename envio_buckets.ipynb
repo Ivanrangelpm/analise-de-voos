{
 "cells": [
  {
   "cell_type": "code",
   "execution_count": 5,
   "id": "1f399325",
   "metadata": {},
   "outputs": [],
   "source": [
    "import pandas as pd\n",
    "import dotenv\n",
    "import os\n",
    "import boto3"
   ]
  },
  {
   "cell_type": "code",
   "execution_count": 38,
   "id": "19ca843f",
   "metadata": {},
   "outputs": [],
   "source": [
    "dotenv.load_dotenv(dotenv.find_dotenv())\n",
    "\n",
    "\n",
    "key_id = os.getenv(\"aws_access_key_id\")\n",
    "key_acess = os.getenv(\"aws_secret_access_key\")\n",
    "aws_token = os.getenv(\"aws_session_token\")\n",
    "\n",
    "\n",
    "\n",
    "s3 = boto3.client(\n",
    "    's3',\n",
    "    aws_access_key_id=key_id,\n",
    "    aws_secret_access_key=key_acess,\n",
    "    aws_session_token=aws_token\n",
    ")\n",
    "\n",
    "\n",
    "\n",
    "bucket_name = 'raw-analise-voos-grupo2'\n",
    "pasta_local = 'dados/raw'"
   ]
  },
  {
   "cell_type": "code",
   "execution_count": null,
   "id": "392b1fbc",
   "metadata": {},
   "outputs": [],
   "source": [
    "def upload_s3():\n",
    "    for arquivo in os.listdir(pasta_local):\n",
    "        caminho_arquivo = os.path.join(pasta_local, arquivo)\n",
    "        \n",
    "        try:\n",
    "            s3.upload_file(caminho_arquivo, bucket_name, arquivo)\n",
    "            print(f\"Arquivo {arquivo} enviado para o bucket {bucket_name} com sucesso!\")\n",
    "            \n",
    "            os.remove(caminho_arquivo)\n",
    "            print(f\"Arquivo {arquivo} apagado da pasta local.\")\n",
    "        \n",
    "        except Exception as e:\n",
    "            print(f\"Erro ao enviar ou apagar o arquivo {arquivo}: {e}\")\n",
    "            \n",
    "upload_s3()"
   ]
  }
 ],
 "metadata": {
  "kernelspec": {
   "display_name": "Python 3",
   "language": "python",
   "name": "python3"
  },
  "language_info": {
   "codemirror_mode": {
    "name": "ipython",
    "version": 3
   },
   "file_extension": ".py",
   "mimetype": "text/x-python",
   "name": "python",
   "nbconvert_exporter": "python",
   "pygments_lexer": "ipython3",
   "version": "3.12.10"
  }
 },
 "nbformat": 4,
 "nbformat_minor": 5
}
