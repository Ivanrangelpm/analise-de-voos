{
 "cells": [
  {
   "cell_type": "code",
   "execution_count": 5,
   "id": "1f399325",
   "metadata": {},
   "outputs": [],
   "source": [
    "import botocore\n",
    "import dotenv\n",
    "import os\n",
    "import boto3\n"
   ]
  },
  {
   "cell_type": "code",
   "execution_count": 7,
   "id": "105d54c8",
   "metadata": {},
   "outputs": [],
   "source": [
    "import boto3\n",
    "import botocore # erros de boto3 para exceptions (404, ver se existe)\n",
    "import os\n",
    "import pandas as pd\n",
    "import dask.dataframe as dd # utilizado para leitura de arquivos massivos\n",
    "\n",
    "# ====================== #\n",
    "#        Config          #\n",
    "# ====================== # \n",
    "\n",
    "regiao='us-east-1'\n",
    "nome_bucket_raw='raw-analisevoos-grupo2'\n",
    "nome_bucket_trusted=''\n",
    "\n",
    "client = boto3.client('s3', region_name=regiao)\n",
    "s3 = boto3.resource('s3', region_name=regiao)\n",
    "\n",
    "# ====================== #\n",
    "#       Functions        #\n",
    "# ====================== # \n",
    "\n",
    "def deletar_arquivo_se_existe(bucketName, filePath):\n",
    "    try:  \n",
    "        s3.Object(bucketName, filePath).load()\n",
    "    except botocore.exceptions.ClientError as erro:\n",
    "        # Arquivo não existe\n",
    "        if erro.response['Error']['Code'] == '404':\n",
    "            return 'arquivo não existe'\n",
    "        else: \n",
    "        # Erro inesperado\n",
    "            raise erro\n",
    "    else:\n",
    "        # Deletando arquivo (mais performático, eu acho)\n",
    "        s3.Object(bucketName, filePath).delete()\n",
    "        return 'arquivo deletado'\n",
    "    \n",
    "def subir_arquivo_deletando_se_existe(bucketName, filePath, fileNameOnBucket):\n",
    "    deletar_arquivo_se_existe(bucketName, filePath)\n",
    "    client.upload_file(filePath ,bucketName, fileNameOnBucket)\n",
    "\n",
    "\n",
    "\n",
    "def limpar_arquivos_locais(nome):\n",
    "    if os.path.exists(nome):\n",
    "        os.remove(nome)"
   ]
  },
  {
   "cell_type": "code",
   "execution_count": 8,
   "id": "23a4e2fb",
   "metadata": {},
   "outputs": [],
   "source": [
    "def subir_arquivo(bucketName, filePath, fileNameOnBucket):\n",
    "    try:\n",
    "        client.upload_file(filePath, bucketName, fileNameOnBucket)\n",
    "        print(f\"Arquivo {fileNameOnBucket} enviado para o bucket {bucketName} com sucesso!\")\n",
    "    except Exception as e:\n",
    "        print(f\"Erro ao enviar o arquivo {fileNameOnBucket}: {e}\")"
   ]
  },
  {
   "cell_type": "code",
   "execution_count": 10,
   "id": "da25b243",
   "metadata": {},
   "outputs": [
    {
     "name": "stdout",
     "output_type": "stream",
     "text": [
      "Erro ao enviar o arquivo dadosconsumidor2024.csv: Failed to upload dados/raw/Dados Atividade/dadosconsumidor2024.csv to raw-analisevoos-grupo2/dadosconsumidor2024.csv: An error occurred (ExpiredToken) when calling the CreateMultipartUpload operation: The provided token has expired.\n"
     ]
    }
   ],
   "source": [
    "subir_arquivo(nome_bucket_raw, \"dados/raw/Dados Atividade/dadosconsumidor2024.csv\", \"dadosconsumidor2024.csv\")"
   ]
  },
  {
   "cell_type": "code",
   "execution_count": 41,
   "id": "de662e19",
   "metadata": {},
   "outputs": [
    {
     "name": "stdout",
     "output_type": "stream",
     "text": [
      "Erro ao criar o bucket: An error occurred (ExpiredToken) when calling the CreateBucket operation: The provided token has expired.\n",
      "Erro ao ativar criptografia: An error occurred (ExpiredToken) when calling the PutBucketEncryption operation: The provided token has expired.\n"
     ]
    }
   ],
   "source": [
    "import boto3\n",
    "from botocore.exceptions import ClientError\n",
    "\n",
    "dotenv.load_dotenv(dotenv.find_dotenv())\n",
    "\n",
    "\n",
    "key_id = os.getenv(\"aws_access_key_id\")\n",
    "key_acess = os.getenv(\"aws_secret_access_key\")\n",
    "aws_token = os.getenv(\"aws_session_token\")\n",
    "\n",
    "\n",
    "\n",
    "s3 = boto3.client(\n",
    "    's3',\n",
    "    aws_access_key_id=key_id,\n",
    "    aws_secret_access_key=key_acess,\n",
    "    aws_session_token=aws_token\n",
    ")\n",
    "\n",
    "\n",
    "bucket_name = \"raw-analise-voos-grupo2\"   # nome único do bucket\n",
    "\n",
    "# Criar o bucket\n",
    "try:\n",
    "    s3.create_bucket(\n",
    "        Bucket=bucket_name,\n",
    "        CreateBucketConfiguration={'LocationConstraint': 'us-east-1'}  # se não for us-east-1\n",
    "    )\n",
    "    print(f\"Bucket '{bucket_name}' criado com sucesso!\")\n",
    "except ClientError as e:\n",
    "    print(f\"Erro ao criar o bucket: {e}\")\n",
    "\n",
    "# Habilitar criptografia SSE-S3 automaticamente para novos objetos\n",
    "try:\n",
    "    s3.put_bucket_encryption(\n",
    "        Bucket=bucket_name,\n",
    "        ServerSideEncryptionConfiguration={\n",
    "            'Rules': [\n",
    "                {\n",
    "                    'ApplyServerSideEncryptionByDefault': {\n",
    "                        'SSEAlgorithm': 'AES256'  # SSE-S3\n",
    "                    }\n",
    "                }\n",
    "            ]\n",
    "        }\n",
    "    )\n",
    "    print(\"Criptografia SSE-S3 ativada no bucket.\")\n",
    "except ClientError as e:\n",
    "    print(f\"Erro ao ativar criptografia: {e}\")"
   ]
  },
  {
   "cell_type": "code",
   "execution_count": 45,
   "id": "19ca843f",
   "metadata": {},
   "outputs": [],
   "source": [
    "dotenv.load_dotenv(dotenv.find_dotenv())\n",
    "\n",
    "\n",
    "key_id = os.getenv(\"aws_access_key_id\")\n",
    "key_acess = os.getenv(\"aws_secret_access_key\")\n",
    "aws_token = os.getenv(\"aws_session_token\")\n",
    "\n",
    "\n",
    "\n",
    "s3 = boto3.client(\n",
    "    's3',\n",
    "    aws_access_key_id=key_id,\n",
    "    aws_secret_access_key=key_acess,\n",
    "    aws_session_token=aws_token\n",
    ")\n",
    "\n",
    "\n",
    "\n",
    "bucket_name = 'raw-analisevoos-grupo2'\n",
    "pasta_local = 'dados/raw/Dados Atividade/'"
   ]
  },
  {
   "cell_type": "code",
   "execution_count": 46,
   "id": "392b1fbc",
   "metadata": {},
   "outputs": [
    {
     "name": "stdout",
     "output_type": "stream",
     "text": [
      "Erro ao enviar ou apagar o arquivo aerodromospublicos.xls: Failed to upload dados/raw/Dados Atividade/aerodromospublicos.xls to raw-analisevoos-grupo2/aerodromospublicos.xls: An error occurred (ExpiredToken) when calling the PutObject operation: The provided token has expired.\n",
      "Erro ao enviar ou apagar o arquivo aerodromospublicos.xlsx: Failed to upload dados/raw/Dados Atividade/aerodromospublicos.xlsx to raw-analisevoos-grupo2/aerodromospublicos.xlsx: An error occurred (ExpiredToken) when calling the PutObject operation: The provided token has expired.\n",
      "Erro ao enviar ou apagar o arquivo dadosconsumidor2024.csv: Failed to upload dados/raw/Dados Atividade/dadosconsumidor2024.csv to raw-analisevoos-grupo2/dadosconsumidor2024.csv: An error occurred (ExpiredToken) when calling the CreateMultipartUpload operation: The provided token has expired.\n",
      "Erro ao enviar ou apagar o arquivo Empresas Aereas.xlsx: Failed to upload dados/raw/Dados Atividade/Empresas Aereas.xlsx to raw-analisevoos-grupo2/Empresas Aereas.xlsx: An error occurred (ExpiredToken) when calling the PutObject operation: The provided token has expired.\n",
      "Erro ao enviar ou apagar o arquivo VRA_2024.csv: Failed to upload dados/raw/Dados Atividade/VRA_2024.csv to raw-analisevoos-grupo2/VRA_2024.csv: An error occurred (ExpiredToken) when calling the CreateMultipartUpload operation: The provided token has expired.\n"
     ]
    }
   ],
   "source": [
    "def upload_s3():\n",
    "    for arquivo in os.listdir(pasta_local):\n",
    "        caminho_arquivo = os.path.join(pasta_local, arquivo)\n",
    "        \n",
    "        try:\n",
    "            s3.upload_file(caminho_arquivo, bucket_name, arquivo)\n",
    "            print(f\"Arquivo {arquivo} enviado para o bucket {bucket_name} com sucesso!\")\n",
    "            \n",
    "            os.remove(caminho_arquivo)\n",
    "            print(f\"Arquivo {arquivo} apagado da pasta local.\")\n",
    "        \n",
    "        except Exception as e:\n",
    "            print(f\"Erro ao enviar ou apagar o arquivo {arquivo}: {e}\")\n",
    "            \n",
    "upload_s3()"
   ]
  }
 ],
 "metadata": {
  "kernelspec": {
   "display_name": "Python 3",
   "language": "python",
   "name": "python3"
  },
  "language_info": {
   "codemirror_mode": {
    "name": "ipython",
    "version": 3
   },
   "file_extension": ".py",
   "mimetype": "text/x-python",
   "name": "python",
   "nbconvert_exporter": "python",
   "pygments_lexer": "ipython3",
   "version": "3.12.10"
  }
 },
 "nbformat": 4,
 "nbformat_minor": 5
}
