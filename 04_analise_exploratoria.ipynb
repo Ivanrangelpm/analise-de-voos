{
 "cells": [
  {
   "cell_type": "code",
   "execution_count": 16,
   "id": "e8cf5947",
   "metadata": {},
   "outputs": [],
   "source": [
    "import math\n",
    "import pandas as pd \n",
    "import os\n",
    "import numpy as np\n",
    "import seaborn as sns\n",
    "import matplotlib.pyplot as plt"
   ]
  },
  {
   "cell_type": "code",
   "execution_count": 8,
   "id": "04d520ce",
   "metadata": {},
   "outputs": [],
   "source": [
    "df_voos = pd.read_csv('dados/refined/voos_sp_rj_2406_2412.csv', sep=',')"
   ]
  },
  {
   "cell_type": "code",
   "execution_count": 9,
   "id": "3901dc42",
   "metadata": {},
   "outputs": [
    {
     "data": {
      "application/vnd.microsoft.datawrangler.viewer.v0+json": {
       "columns": [
        {
         "name": "index",
         "rawType": "int64",
         "type": "integer"
        },
        {
         "name": "EMPRESA AEREA",
         "rawType": "object",
         "type": "string"
        },
        {
         "name": "NUMERO VOO",
         "rawType": "object",
         "type": "string"
        },
        {
         "name": "CODIGO DI",
         "rawType": "int64",
         "type": "integer"
        },
        {
         "name": "CODIGO TIPO LINHA",
         "rawType": "object",
         "type": "string"
        },
        {
         "name": "MODELO EQUIPAMENTO",
         "rawType": "object",
         "type": "string"
        },
        {
         "name": "NUMERO DE ASSENTOS",
         "rawType": "float64",
         "type": "float"
        },
        {
         "name": "SIGLA AEROPORTO ORIGEM",
         "rawType": "object",
         "type": "string"
        },
        {
         "name": "PARTIDA PREVISTA",
         "rawType": "object",
         "type": "string"
        },
        {
         "name": "PARTIDA REAL",
         "rawType": "object",
         "type": "string"
        },
        {
         "name": "SIGLA AEROPORTO DESTINO",
         "rawType": "object",
         "type": "string"
        },
        {
         "name": "CHEGADA PREVISTA",
         "rawType": "object",
         "type": "string"
        },
        {
         "name": "CHEGADA REAL",
         "rawType": "object",
         "type": "string"
        },
        {
         "name": "SITUACAO VOO",
         "rawType": "object",
         "type": "string"
        },
        {
         "name": "JUSTIFICATIVA",
         "rawType": "object",
         "type": "string"
        },
        {
         "name": "REFERENCIA",
         "rawType": "object",
         "type": "string"
        },
        {
         "name": "SITUACAO PARTIDA",
         "rawType": "object",
         "type": "string"
        },
        {
         "name": "SITUACAO CHEGADA",
         "rawType": "object",
         "type": "string"
        },
        {
         "name": "CODIGO OACI_x",
         "rawType": "object",
         "type": "string"
        },
        {
         "name": "CIAD ORIG",
         "rawType": "object",
         "type": "string"
        },
        {
         "name": "NOME ORIG",
         "rawType": "object",
         "type": "string"
        },
        {
         "name": "MUNICIPIO ORIG",
         "rawType": "object",
         "type": "string"
        },
        {
         "name": "UF ORIG",
         "rawType": "object",
         "type": "string"
        },
        {
         "name": "LATITUDE ORIG",
         "rawType": "float64",
         "type": "float"
        },
        {
         "name": "LONGITUDE ORIG",
         "rawType": "float64",
         "type": "float"
        },
        {
         "name": "CODIGO OACI_y",
         "rawType": "object",
         "type": "string"
        },
        {
         "name": "CIAD DEST",
         "rawType": "object",
         "type": "string"
        },
        {
         "name": "NOME DEST",
         "rawType": "object",
         "type": "string"
        },
        {
         "name": "MUNICIPIO DEST",
         "rawType": "object",
         "type": "string"
        },
        {
         "name": "UF DEST",
         "rawType": "object",
         "type": "string"
        },
        {
         "name": "LATITUDE DEST",
         "rawType": "float64",
         "type": "float"
        },
        {
         "name": "LONGITUDE DEST",
         "rawType": "float64",
         "type": "float"
        },
        {
         "name": "DISTANCIA KM",
         "rawType": "float64",
         "type": "float"
        },
        {
         "name": "HORA PARTIDA REAL",
         "rawType": "object",
         "type": "string"
        },
        {
         "name": "CLUSTER_HORA",
         "rawType": "float64",
         "type": "float"
        },
        {
         "name": "AQO",
         "rawType": "float64",
         "type": "float"
        }
       ],
       "ref": "95d8591e-f66b-419f-a96b-1bd2b88e6ea6",
       "rows": [
        [
         "0",
         "AZUL CONECTA LTDA. (EX TWO TAXI AEREO LTDA)",
         "5121",
         "0",
         "N",
         "C208",
         "9.0",
         "SBSP",
         "01/06/2024 06:25",
         "2024-06-01 06:20:00",
         "SBJR",
         "01/06/2024 08:00",
         "01/06/2024 07:57",
         "REALIZADO",
         "NAN",
         "01/06/2024",
         "ANTECIPADO",
         "ANTECIPADO",
         "SBSP",
         "SP0001",
         "SAO PAULO/CONGONHAS - DEPUTADO FREITAS NOBRE",
         "SAO PAULO",
         "SP",
         "-23.62611111111111",
         "-46.65638888888888",
         "SBJR",
         "RJ0005",
         "JACAREPAGUA - ROBERTO MARINHO",
         "RIO DE JANEIRO",
         "RJ",
         "-22.9875",
         "-43.37",
         "343.0309146717754",
         "06:20:00",
         "4.0",
         "3087.2782320459787"
        ],
        [
         "1",
         "AZUL CONECTA LTDA. (EX TWO TAXI AEREO LTDA)",
         "5232",
         "0",
         "N",
         "C208",
         "9.0",
         "SBSP",
         "01/06/2024 10:45",
         "2024-06-01 10:40:00",
         "SBJR",
         "01/06/2024 12:15",
         "01/06/2024 12:12",
         "REALIZADO",
         "NAN",
         "01/06/2024",
         "ANTECIPADO",
         "ANTECIPADO",
         "SBSP",
         "SP0001",
         "SAO PAULO/CONGONHAS - DEPUTADO FREITAS NOBRE",
         "SAO PAULO",
         "SP",
         "-23.62611111111111",
         "-46.65638888888888",
         "SBJR",
         "RJ0005",
         "JACAREPAGUA - ROBERTO MARINHO",
         "RIO DE JANEIRO",
         "RJ",
         "-22.9875",
         "-43.37",
         "343.0309146717754",
         "10:40:00",
         "6.0",
         "3087.2782320459787"
        ],
        [
         "2",
         "AZUL CONECTA LTDA. (EX TWO TAXI AEREO LTDA)",
         "5114",
         "0",
         "N",
         "C208",
         "9.0",
         "SBSP",
         "02/06/2024 15:40",
         "2024-06-02 15:38:00",
         "SBJR",
         "02/06/2024 17:15",
         "02/06/2024 17:07",
         "REALIZADO",
         "NAN",
         "02/06/2024",
         "ANTECIPADO",
         "ANTECIPADO",
         "SBSP",
         "SP0001",
         "SAO PAULO/CONGONHAS - DEPUTADO FREITAS NOBRE",
         "SAO PAULO",
         "SP",
         "-23.62611111111111",
         "-46.65638888888888",
         "SBJR",
         "RJ0005",
         "JACAREPAGUA - ROBERTO MARINHO",
         "RIO DE JANEIRO",
         "RJ",
         "-22.9875",
         "-43.37",
         "343.0309146717754",
         "15:38:00",
         "8.0",
         "3087.2782320459787"
        ],
        [
         "3",
         "AZUL CONECTA LTDA. (EX TWO TAXI AEREO LTDA)",
         "5220",
         "0",
         "N",
         "C208",
         "9.0",
         "SBSP",
         "02/06/2024 13:40",
         "2024-06-02 13:33:00",
         "SBJR",
         "02/06/2024 15:10",
         "02/06/2024 15:06",
         "REALIZADO",
         "NAN",
         "02/06/2024",
         "ANTECIPADO",
         "ANTECIPADO",
         "SBSP",
         "SP0001",
         "SAO PAULO/CONGONHAS - DEPUTADO FREITAS NOBRE",
         "SAO PAULO",
         "SP",
         "-23.62611111111111",
         "-46.65638888888888",
         "SBJR",
         "RJ0005",
         "JACAREPAGUA - ROBERTO MARINHO",
         "RIO DE JANEIRO",
         "RJ",
         "-22.9875",
         "-43.37",
         "343.0309146717754",
         "13:33:00",
         "7.0",
         "3087.2782320459787"
        ],
        [
         "4",
         "AZUL CONECTA LTDA. (EX TWO TAXI AEREO LTDA)",
         "5226",
         "0",
         "N",
         "C208",
         "9.0",
         "SBSP",
         "02/06/2024 20:10",
         "2024-06-02 20:17:00",
         "SBJR",
         "02/06/2024 21:40",
         "02/06/2024 21:45",
         "REALIZADO",
         "NAN",
         "02/06/2024",
         "PONTUAL",
         "PONTUAL",
         "SBSP",
         "SP0001",
         "SAO PAULO/CONGONHAS - DEPUTADO FREITAS NOBRE",
         "SAO PAULO",
         "SP",
         "-23.62611111111111",
         "-46.65638888888888",
         "SBJR",
         "RJ0005",
         "JACAREPAGUA - ROBERTO MARINHO",
         "RIO DE JANEIRO",
         "RJ",
         "-22.9875",
         "-43.37",
         "343.0309146717754",
         "20:17:00",
         "11.0",
         "3087.2782320459787"
        ]
       ],
       "shape": {
        "columns": 35,
        "rows": 5
       }
      },
      "text/html": [
       "<div>\n",
       "<style scoped>\n",
       "    .dataframe tbody tr th:only-of-type {\n",
       "        vertical-align: middle;\n",
       "    }\n",
       "\n",
       "    .dataframe tbody tr th {\n",
       "        vertical-align: top;\n",
       "    }\n",
       "\n",
       "    .dataframe thead th {\n",
       "        text-align: right;\n",
       "    }\n",
       "</style>\n",
       "<table border=\"1\" class=\"dataframe\">\n",
       "  <thead>\n",
       "    <tr style=\"text-align: right;\">\n",
       "      <th></th>\n",
       "      <th>EMPRESA AEREA</th>\n",
       "      <th>NUMERO VOO</th>\n",
       "      <th>CODIGO DI</th>\n",
       "      <th>CODIGO TIPO LINHA</th>\n",
       "      <th>MODELO EQUIPAMENTO</th>\n",
       "      <th>NUMERO DE ASSENTOS</th>\n",
       "      <th>SIGLA AEROPORTO ORIGEM</th>\n",
       "      <th>PARTIDA PREVISTA</th>\n",
       "      <th>PARTIDA REAL</th>\n",
       "      <th>SIGLA AEROPORTO DESTINO</th>\n",
       "      <th>...</th>\n",
       "      <th>CIAD DEST</th>\n",
       "      <th>NOME DEST</th>\n",
       "      <th>MUNICIPIO DEST</th>\n",
       "      <th>UF DEST</th>\n",
       "      <th>LATITUDE DEST</th>\n",
       "      <th>LONGITUDE DEST</th>\n",
       "      <th>DISTANCIA KM</th>\n",
       "      <th>HORA PARTIDA REAL</th>\n",
       "      <th>CLUSTER_HORA</th>\n",
       "      <th>AQO</th>\n",
       "    </tr>\n",
       "  </thead>\n",
       "  <tbody>\n",
       "    <tr>\n",
       "      <th>0</th>\n",
       "      <td>AZUL CONECTA LTDA. (EX TWO TAXI AEREO LTDA)</td>\n",
       "      <td>5121</td>\n",
       "      <td>0</td>\n",
       "      <td>N</td>\n",
       "      <td>C208</td>\n",
       "      <td>9.0</td>\n",
       "      <td>SBSP</td>\n",
       "      <td>01/06/2024 06:25</td>\n",
       "      <td>2024-06-01 06:20:00</td>\n",
       "      <td>SBJR</td>\n",
       "      <td>...</td>\n",
       "      <td>RJ0005</td>\n",
       "      <td>JACAREPAGUA - ROBERTO MARINHO</td>\n",
       "      <td>RIO DE JANEIRO</td>\n",
       "      <td>RJ</td>\n",
       "      <td>-22.9875</td>\n",
       "      <td>-43.37</td>\n",
       "      <td>343.030915</td>\n",
       "      <td>06:20:00</td>\n",
       "      <td>4.0</td>\n",
       "      <td>3087.278232</td>\n",
       "    </tr>\n",
       "    <tr>\n",
       "      <th>1</th>\n",
       "      <td>AZUL CONECTA LTDA. (EX TWO TAXI AEREO LTDA)</td>\n",
       "      <td>5232</td>\n",
       "      <td>0</td>\n",
       "      <td>N</td>\n",
       "      <td>C208</td>\n",
       "      <td>9.0</td>\n",
       "      <td>SBSP</td>\n",
       "      <td>01/06/2024 10:45</td>\n",
       "      <td>2024-06-01 10:40:00</td>\n",
       "      <td>SBJR</td>\n",
       "      <td>...</td>\n",
       "      <td>RJ0005</td>\n",
       "      <td>JACAREPAGUA - ROBERTO MARINHO</td>\n",
       "      <td>RIO DE JANEIRO</td>\n",
       "      <td>RJ</td>\n",
       "      <td>-22.9875</td>\n",
       "      <td>-43.37</td>\n",
       "      <td>343.030915</td>\n",
       "      <td>10:40:00</td>\n",
       "      <td>6.0</td>\n",
       "      <td>3087.278232</td>\n",
       "    </tr>\n",
       "    <tr>\n",
       "      <th>2</th>\n",
       "      <td>AZUL CONECTA LTDA. (EX TWO TAXI AEREO LTDA)</td>\n",
       "      <td>5114</td>\n",
       "      <td>0</td>\n",
       "      <td>N</td>\n",
       "      <td>C208</td>\n",
       "      <td>9.0</td>\n",
       "      <td>SBSP</td>\n",
       "      <td>02/06/2024 15:40</td>\n",
       "      <td>2024-06-02 15:38:00</td>\n",
       "      <td>SBJR</td>\n",
       "      <td>...</td>\n",
       "      <td>RJ0005</td>\n",
       "      <td>JACAREPAGUA - ROBERTO MARINHO</td>\n",
       "      <td>RIO DE JANEIRO</td>\n",
       "      <td>RJ</td>\n",
       "      <td>-22.9875</td>\n",
       "      <td>-43.37</td>\n",
       "      <td>343.030915</td>\n",
       "      <td>15:38:00</td>\n",
       "      <td>8.0</td>\n",
       "      <td>3087.278232</td>\n",
       "    </tr>\n",
       "    <tr>\n",
       "      <th>3</th>\n",
       "      <td>AZUL CONECTA LTDA. (EX TWO TAXI AEREO LTDA)</td>\n",
       "      <td>5220</td>\n",
       "      <td>0</td>\n",
       "      <td>N</td>\n",
       "      <td>C208</td>\n",
       "      <td>9.0</td>\n",
       "      <td>SBSP</td>\n",
       "      <td>02/06/2024 13:40</td>\n",
       "      <td>2024-06-02 13:33:00</td>\n",
       "      <td>SBJR</td>\n",
       "      <td>...</td>\n",
       "      <td>RJ0005</td>\n",
       "      <td>JACAREPAGUA - ROBERTO MARINHO</td>\n",
       "      <td>RIO DE JANEIRO</td>\n",
       "      <td>RJ</td>\n",
       "      <td>-22.9875</td>\n",
       "      <td>-43.37</td>\n",
       "      <td>343.030915</td>\n",
       "      <td>13:33:00</td>\n",
       "      <td>7.0</td>\n",
       "      <td>3087.278232</td>\n",
       "    </tr>\n",
       "    <tr>\n",
       "      <th>4</th>\n",
       "      <td>AZUL CONECTA LTDA. (EX TWO TAXI AEREO LTDA)</td>\n",
       "      <td>5226</td>\n",
       "      <td>0</td>\n",
       "      <td>N</td>\n",
       "      <td>C208</td>\n",
       "      <td>9.0</td>\n",
       "      <td>SBSP</td>\n",
       "      <td>02/06/2024 20:10</td>\n",
       "      <td>2024-06-02 20:17:00</td>\n",
       "      <td>SBJR</td>\n",
       "      <td>...</td>\n",
       "      <td>RJ0005</td>\n",
       "      <td>JACAREPAGUA - ROBERTO MARINHO</td>\n",
       "      <td>RIO DE JANEIRO</td>\n",
       "      <td>RJ</td>\n",
       "      <td>-22.9875</td>\n",
       "      <td>-43.37</td>\n",
       "      <td>343.030915</td>\n",
       "      <td>20:17:00</td>\n",
       "      <td>11.0</td>\n",
       "      <td>3087.278232</td>\n",
       "    </tr>\n",
       "  </tbody>\n",
       "</table>\n",
       "<p>5 rows × 35 columns</p>\n",
       "</div>"
      ],
      "text/plain": [
       "                                 EMPRESA AEREA NUMERO VOO  CODIGO DI  \\\n",
       "0  AZUL CONECTA LTDA. (EX TWO TAXI AEREO LTDA)       5121          0   \n",
       "1  AZUL CONECTA LTDA. (EX TWO TAXI AEREO LTDA)       5232          0   \n",
       "2  AZUL CONECTA LTDA. (EX TWO TAXI AEREO LTDA)       5114          0   \n",
       "3  AZUL CONECTA LTDA. (EX TWO TAXI AEREO LTDA)       5220          0   \n",
       "4  AZUL CONECTA LTDA. (EX TWO TAXI AEREO LTDA)       5226          0   \n",
       "\n",
       "  CODIGO TIPO LINHA MODELO EQUIPAMENTO  NUMERO DE ASSENTOS  \\\n",
       "0                 N               C208                 9.0   \n",
       "1                 N               C208                 9.0   \n",
       "2                 N               C208                 9.0   \n",
       "3                 N               C208                 9.0   \n",
       "4                 N               C208                 9.0   \n",
       "\n",
       "  SIGLA AEROPORTO ORIGEM  PARTIDA PREVISTA         PARTIDA REAL  \\\n",
       "0                   SBSP  01/06/2024 06:25  2024-06-01 06:20:00   \n",
       "1                   SBSP  01/06/2024 10:45  2024-06-01 10:40:00   \n",
       "2                   SBSP  02/06/2024 15:40  2024-06-02 15:38:00   \n",
       "3                   SBSP  02/06/2024 13:40  2024-06-02 13:33:00   \n",
       "4                   SBSP  02/06/2024 20:10  2024-06-02 20:17:00   \n",
       "\n",
       "  SIGLA AEROPORTO DESTINO  ... CIAD DEST                      NOME DEST  \\\n",
       "0                    SBJR  ...    RJ0005  JACAREPAGUA - ROBERTO MARINHO   \n",
       "1                    SBJR  ...    RJ0005  JACAREPAGUA - ROBERTO MARINHO   \n",
       "2                    SBJR  ...    RJ0005  JACAREPAGUA - ROBERTO MARINHO   \n",
       "3                    SBJR  ...    RJ0005  JACAREPAGUA - ROBERTO MARINHO   \n",
       "4                    SBJR  ...    RJ0005  JACAREPAGUA - ROBERTO MARINHO   \n",
       "\n",
       "   MUNICIPIO DEST UF DEST LATITUDE DEST LONGITUDE DEST DISTANCIA KM  \\\n",
       "0  RIO DE JANEIRO      RJ      -22.9875         -43.37   343.030915   \n",
       "1  RIO DE JANEIRO      RJ      -22.9875         -43.37   343.030915   \n",
       "2  RIO DE JANEIRO      RJ      -22.9875         -43.37   343.030915   \n",
       "3  RIO DE JANEIRO      RJ      -22.9875         -43.37   343.030915   \n",
       "4  RIO DE JANEIRO      RJ      -22.9875         -43.37   343.030915   \n",
       "\n",
       "  HORA PARTIDA REAL CLUSTER_HORA          AQO  \n",
       "0          06:20:00          4.0  3087.278232  \n",
       "1          10:40:00          6.0  3087.278232  \n",
       "2          15:38:00          8.0  3087.278232  \n",
       "3          13:33:00          7.0  3087.278232  \n",
       "4          20:17:00         11.0  3087.278232  \n",
       "\n",
       "[5 rows x 35 columns]"
      ]
     },
     "execution_count": 9,
     "metadata": {},
     "output_type": "execute_result"
    }
   ],
   "source": [
    "df_voos.head()"
   ]
  },
  {
   "cell_type": "code",
   "execution_count": 10,
   "id": "e3dcd4c2",
   "metadata": {},
   "outputs": [
    {
     "data": {
      "application/vnd.microsoft.datawrangler.viewer.v0+json": {
       "columns": [
        {
         "name": "index",
         "rawType": "int64",
         "type": "integer"
        },
        {
         "name": "EMPRESA AEREA",
         "rawType": "object",
         "type": "string"
        },
        {
         "name": "NUMERO VOO",
         "rawType": "object",
         "type": "string"
        },
        {
         "name": "CODIGO DI",
         "rawType": "int64",
         "type": "integer"
        },
        {
         "name": "CODIGO TIPO LINHA",
         "rawType": "object",
         "type": "string"
        },
        {
         "name": "MODELO EQUIPAMENTO",
         "rawType": "object",
         "type": "string"
        },
        {
         "name": "NUMERO DE ASSENTOS",
         "rawType": "float64",
         "type": "float"
        },
        {
         "name": "SIGLA AEROPORTO ORIGEM",
         "rawType": "object",
         "type": "string"
        },
        {
         "name": "PARTIDA PREVISTA",
         "rawType": "object",
         "type": "string"
        },
        {
         "name": "PARTIDA REAL",
         "rawType": "object",
         "type": "string"
        },
        {
         "name": "SIGLA AEROPORTO DESTINO",
         "rawType": "object",
         "type": "string"
        },
        {
         "name": "CHEGADA PREVISTA",
         "rawType": "object",
         "type": "string"
        },
        {
         "name": "CHEGADA REAL",
         "rawType": "object",
         "type": "string"
        },
        {
         "name": "SITUACAO VOO",
         "rawType": "object",
         "type": "string"
        },
        {
         "name": "JUSTIFICATIVA",
         "rawType": "object",
         "type": "string"
        },
        {
         "name": "REFERENCIA",
         "rawType": "object",
         "type": "string"
        },
        {
         "name": "SITUACAO PARTIDA",
         "rawType": "object",
         "type": "string"
        },
        {
         "name": "SITUACAO CHEGADA",
         "rawType": "object",
         "type": "string"
        },
        {
         "name": "CODIGO OACI_x",
         "rawType": "object",
         "type": "string"
        },
        {
         "name": "CIAD ORIG",
         "rawType": "object",
         "type": "string"
        },
        {
         "name": "NOME ORIG",
         "rawType": "object",
         "type": "string"
        },
        {
         "name": "MUNICIPIO ORIG",
         "rawType": "object",
         "type": "string"
        },
        {
         "name": "UF ORIG",
         "rawType": "object",
         "type": "string"
        },
        {
         "name": "LATITUDE ORIG",
         "rawType": "float64",
         "type": "float"
        },
        {
         "name": "LONGITUDE ORIG",
         "rawType": "float64",
         "type": "float"
        },
        {
         "name": "CODIGO OACI_y",
         "rawType": "object",
         "type": "string"
        },
        {
         "name": "CIAD DEST",
         "rawType": "object",
         "type": "string"
        },
        {
         "name": "NOME DEST",
         "rawType": "object",
         "type": "string"
        },
        {
         "name": "MUNICIPIO DEST",
         "rawType": "object",
         "type": "string"
        },
        {
         "name": "UF DEST",
         "rawType": "object",
         "type": "string"
        },
        {
         "name": "LATITUDE DEST",
         "rawType": "float64",
         "type": "float"
        },
        {
         "name": "LONGITUDE DEST",
         "rawType": "float64",
         "type": "float"
        },
        {
         "name": "DISTANCIA KM",
         "rawType": "float64",
         "type": "float"
        },
        {
         "name": "HORA PARTIDA REAL",
         "rawType": "object",
         "type": "string"
        },
        {
         "name": "CLUSTER_HORA",
         "rawType": "float64",
         "type": "float"
        },
        {
         "name": "AQO",
         "rawType": "float64",
         "type": "float"
        }
       ],
       "ref": "86c62503-2a0a-4c89-a078-b0d88a0ce07f",
       "rows": [
        [
         "5511",
         "TAM LINHAS AEREAS S.A.",
         "3532",
         "0",
         "N",
         "A319",
         "144.0",
         "SBSP",
         "30/08/2024 13:25",
         "2024-08-30 13:18:00",
         "SBRJ",
         "30/08/2024 14:30",
         "30/08/2024 14:10",
         "REALIZADO",
         "NAN",
         "30/08/2024",
         "ANTECIPADO",
         "ANTECIPADO",
         "SBSP",
         "SP0001",
         "SAO PAULO/CONGONHAS - DEPUTADO FREITAS NOBRE",
         "SAO PAULO",
         "SP",
         "-23.62611111111111",
         "-46.65638888888888",
         "SBRJ",
         "RJ0002",
         "SANTOS DUMONT",
         "RIO DE JANEIRO",
         "RJ",
         "-22.91",
         "-43.1625",
         "365.667492501412",
         "13:18:00",
         "7.0",
         "52656.118920203335"
        ],
        [
         "338",
         "AZUL LINHAS AEREAS BRASILEIRAS S/A",
         "4231",
         "0",
         "N",
         "E195",
         "118.0",
         "SBSP",
         "15/06/2024 08:50",
         "2024-06-15 08:47:00",
         "SBRJ",
         "15/06/2024 09:50",
         "15/06/2024 09:54",
         "REALIZADO",
         "NAN",
         "15/06/2024",
         "ANTECIPADO",
         "PONTUAL",
         "SBSP",
         "SP0001",
         "SAO PAULO/CONGONHAS - DEPUTADO FREITAS NOBRE",
         "SAO PAULO",
         "SP",
         "-23.62611111111111",
         "-46.65638888888888",
         "SBRJ",
         "RJ0002",
         "SANTOS DUMONT",
         "RIO DE JANEIRO",
         "RJ",
         "-22.91",
         "-43.1625",
         "365.667492501412",
         "08:47:00",
         "5.0",
         "43148.76411516662"
        ],
        [
         "9793",
         "GOL LINHAS AEREAS S.A. (EX- VRG LINHAS AEREAS S.A.)",
         "1012",
         "0",
         "N",
         "B738",
         "186.0",
         "SBSP",
         "05/11/2024 09:15",
         "2024-11-05 10:05:00",
         "SBRJ",
         "05/11/2024 10:25",
         "05/11/2024 11:17",
         "REALIZADO",
         "NAN",
         "05/11/2024",
         "ATRASO 30-60",
         "ATRASO 30-60",
         "SBSP",
         "SP0001",
         "SAO PAULO/CONGONHAS - DEPUTADO FREITAS NOBRE",
         "SAO PAULO",
         "SP",
         "-23.62611111111111",
         "-46.65638888888888",
         "SBRJ",
         "RJ0002",
         "SANTOS DUMONT",
         "RIO DE JANEIRO",
         "RJ",
         "-22.91",
         "-43.1625",
         "365.667492501412",
         "10:05:00",
         "6.0",
         "68014.15360526263"
        ],
        [
         "11679",
         "GOL LINHAS AEREAS S.A. (EX- VRG LINHAS AEREAS S.A.)",
         "1012",
         "0",
         "N",
         "B738",
         "186.0",
         "SBSP",
         "14/12/2024 09:15",
         "2024-12-14 09:16:00",
         "SBRJ",
         "14/12/2024 10:25",
         "14/12/2024 10:29",
         "REALIZADO",
         "NAN",
         "14/12/2024",
         "PONTUAL",
         "PONTUAL",
         "SBSP",
         "SP0001",
         "SAO PAULO/CONGONHAS - DEPUTADO FREITAS NOBRE",
         "SAO PAULO",
         "SP",
         "-23.62611111111111",
         "-46.65638888888888",
         "SBRJ",
         "RJ0002",
         "SANTOS DUMONT",
         "RIO DE JANEIRO",
         "RJ",
         "-22.91",
         "-43.1625",
         "365.667492501412",
         "09:16:00",
         "5.0",
         "68014.15360526263"
        ],
        [
         "3339",
         "TAM LINHAS AEREAS S.A.",
         "3906",
         "0",
         "N",
         "A319",
         "144.0",
         "SBSP",
         "15/07/2024 08:15",
         "2024-07-15 08:16:00",
         "SBRJ",
         "15/07/2024 09:20",
         "15/07/2024 09:16",
         "REALIZADO",
         "NAN",
         "15/07/2024",
         "PONTUAL",
         "ANTECIPADO",
         "SBSP",
         "SP0001",
         "SAO PAULO/CONGONHAS - DEPUTADO FREITAS NOBRE",
         "SAO PAULO",
         "SP",
         "-23.62611111111111",
         "-46.65638888888888",
         "SBRJ",
         "RJ0002",
         "SANTOS DUMONT",
         "RIO DE JANEIRO",
         "RJ",
         "-22.91",
         "-43.1625",
         "365.667492501412",
         "08:16:00",
         "5.0",
         "52656.118920203335"
        ]
       ],
       "shape": {
        "columns": 35,
        "rows": 5
       }
      },
      "text/html": [
       "<div>\n",
       "<style scoped>\n",
       "    .dataframe tbody tr th:only-of-type {\n",
       "        vertical-align: middle;\n",
       "    }\n",
       "\n",
       "    .dataframe tbody tr th {\n",
       "        vertical-align: top;\n",
       "    }\n",
       "\n",
       "    .dataframe thead th {\n",
       "        text-align: right;\n",
       "    }\n",
       "</style>\n",
       "<table border=\"1\" class=\"dataframe\">\n",
       "  <thead>\n",
       "    <tr style=\"text-align: right;\">\n",
       "      <th></th>\n",
       "      <th>EMPRESA AEREA</th>\n",
       "      <th>NUMERO VOO</th>\n",
       "      <th>CODIGO DI</th>\n",
       "      <th>CODIGO TIPO LINHA</th>\n",
       "      <th>MODELO EQUIPAMENTO</th>\n",
       "      <th>NUMERO DE ASSENTOS</th>\n",
       "      <th>SIGLA AEROPORTO ORIGEM</th>\n",
       "      <th>PARTIDA PREVISTA</th>\n",
       "      <th>PARTIDA REAL</th>\n",
       "      <th>SIGLA AEROPORTO DESTINO</th>\n",
       "      <th>...</th>\n",
       "      <th>CIAD DEST</th>\n",
       "      <th>NOME DEST</th>\n",
       "      <th>MUNICIPIO DEST</th>\n",
       "      <th>UF DEST</th>\n",
       "      <th>LATITUDE DEST</th>\n",
       "      <th>LONGITUDE DEST</th>\n",
       "      <th>DISTANCIA KM</th>\n",
       "      <th>HORA PARTIDA REAL</th>\n",
       "      <th>CLUSTER_HORA</th>\n",
       "      <th>AQO</th>\n",
       "    </tr>\n",
       "  </thead>\n",
       "  <tbody>\n",
       "    <tr>\n",
       "      <th>5511</th>\n",
       "      <td>TAM LINHAS AEREAS S.A.</td>\n",
       "      <td>3532</td>\n",
       "      <td>0</td>\n",
       "      <td>N</td>\n",
       "      <td>A319</td>\n",
       "      <td>144.0</td>\n",
       "      <td>SBSP</td>\n",
       "      <td>30/08/2024 13:25</td>\n",
       "      <td>2024-08-30 13:18:00</td>\n",
       "      <td>SBRJ</td>\n",
       "      <td>...</td>\n",
       "      <td>RJ0002</td>\n",
       "      <td>SANTOS DUMONT</td>\n",
       "      <td>RIO DE JANEIRO</td>\n",
       "      <td>RJ</td>\n",
       "      <td>-22.91</td>\n",
       "      <td>-43.1625</td>\n",
       "      <td>365.667493</td>\n",
       "      <td>13:18:00</td>\n",
       "      <td>7.0</td>\n",
       "      <td>52656.118920</td>\n",
       "    </tr>\n",
       "    <tr>\n",
       "      <th>338</th>\n",
       "      <td>AZUL LINHAS AEREAS BRASILEIRAS S/A</td>\n",
       "      <td>4231</td>\n",
       "      <td>0</td>\n",
       "      <td>N</td>\n",
       "      <td>E195</td>\n",
       "      <td>118.0</td>\n",
       "      <td>SBSP</td>\n",
       "      <td>15/06/2024 08:50</td>\n",
       "      <td>2024-06-15 08:47:00</td>\n",
       "      <td>SBRJ</td>\n",
       "      <td>...</td>\n",
       "      <td>RJ0002</td>\n",
       "      <td>SANTOS DUMONT</td>\n",
       "      <td>RIO DE JANEIRO</td>\n",
       "      <td>RJ</td>\n",
       "      <td>-22.91</td>\n",
       "      <td>-43.1625</td>\n",
       "      <td>365.667493</td>\n",
       "      <td>08:47:00</td>\n",
       "      <td>5.0</td>\n",
       "      <td>43148.764115</td>\n",
       "    </tr>\n",
       "    <tr>\n",
       "      <th>9793</th>\n",
       "      <td>GOL LINHAS AEREAS S.A. (EX- VRG LINHAS AEREAS ...</td>\n",
       "      <td>1012</td>\n",
       "      <td>0</td>\n",
       "      <td>N</td>\n",
       "      <td>B738</td>\n",
       "      <td>186.0</td>\n",
       "      <td>SBSP</td>\n",
       "      <td>05/11/2024 09:15</td>\n",
       "      <td>2024-11-05 10:05:00</td>\n",
       "      <td>SBRJ</td>\n",
       "      <td>...</td>\n",
       "      <td>RJ0002</td>\n",
       "      <td>SANTOS DUMONT</td>\n",
       "      <td>RIO DE JANEIRO</td>\n",
       "      <td>RJ</td>\n",
       "      <td>-22.91</td>\n",
       "      <td>-43.1625</td>\n",
       "      <td>365.667493</td>\n",
       "      <td>10:05:00</td>\n",
       "      <td>6.0</td>\n",
       "      <td>68014.153605</td>\n",
       "    </tr>\n",
       "    <tr>\n",
       "      <th>11679</th>\n",
       "      <td>GOL LINHAS AEREAS S.A. (EX- VRG LINHAS AEREAS ...</td>\n",
       "      <td>1012</td>\n",
       "      <td>0</td>\n",
       "      <td>N</td>\n",
       "      <td>B738</td>\n",
       "      <td>186.0</td>\n",
       "      <td>SBSP</td>\n",
       "      <td>14/12/2024 09:15</td>\n",
       "      <td>2024-12-14 09:16:00</td>\n",
       "      <td>SBRJ</td>\n",
       "      <td>...</td>\n",
       "      <td>RJ0002</td>\n",
       "      <td>SANTOS DUMONT</td>\n",
       "      <td>RIO DE JANEIRO</td>\n",
       "      <td>RJ</td>\n",
       "      <td>-22.91</td>\n",
       "      <td>-43.1625</td>\n",
       "      <td>365.667493</td>\n",
       "      <td>09:16:00</td>\n",
       "      <td>5.0</td>\n",
       "      <td>68014.153605</td>\n",
       "    </tr>\n",
       "    <tr>\n",
       "      <th>3339</th>\n",
       "      <td>TAM LINHAS AEREAS S.A.</td>\n",
       "      <td>3906</td>\n",
       "      <td>0</td>\n",
       "      <td>N</td>\n",
       "      <td>A319</td>\n",
       "      <td>144.0</td>\n",
       "      <td>SBSP</td>\n",
       "      <td>15/07/2024 08:15</td>\n",
       "      <td>2024-07-15 08:16:00</td>\n",
       "      <td>SBRJ</td>\n",
       "      <td>...</td>\n",
       "      <td>RJ0002</td>\n",
       "      <td>SANTOS DUMONT</td>\n",
       "      <td>RIO DE JANEIRO</td>\n",
       "      <td>RJ</td>\n",
       "      <td>-22.91</td>\n",
       "      <td>-43.1625</td>\n",
       "      <td>365.667493</td>\n",
       "      <td>08:16:00</td>\n",
       "      <td>5.0</td>\n",
       "      <td>52656.118920</td>\n",
       "    </tr>\n",
       "  </tbody>\n",
       "</table>\n",
       "<p>5 rows × 35 columns</p>\n",
       "</div>"
      ],
      "text/plain": [
       "                                           EMPRESA AEREA NUMERO VOO  \\\n",
       "5511                              TAM LINHAS AEREAS S.A.       3532   \n",
       "338                   AZUL LINHAS AEREAS BRASILEIRAS S/A       4231   \n",
       "9793   GOL LINHAS AEREAS S.A. (EX- VRG LINHAS AEREAS ...       1012   \n",
       "11679  GOL LINHAS AEREAS S.A. (EX- VRG LINHAS AEREAS ...       1012   \n",
       "3339                              TAM LINHAS AEREAS S.A.       3906   \n",
       "\n",
       "       CODIGO DI CODIGO TIPO LINHA MODELO EQUIPAMENTO  NUMERO DE ASSENTOS  \\\n",
       "5511           0                 N               A319               144.0   \n",
       "338            0                 N               E195               118.0   \n",
       "9793           0                 N               B738               186.0   \n",
       "11679          0                 N               B738               186.0   \n",
       "3339           0                 N               A319               144.0   \n",
       "\n",
       "      SIGLA AEROPORTO ORIGEM  PARTIDA PREVISTA         PARTIDA REAL  \\\n",
       "5511                    SBSP  30/08/2024 13:25  2024-08-30 13:18:00   \n",
       "338                     SBSP  15/06/2024 08:50  2024-06-15 08:47:00   \n",
       "9793                    SBSP  05/11/2024 09:15  2024-11-05 10:05:00   \n",
       "11679                   SBSP  14/12/2024 09:15  2024-12-14 09:16:00   \n",
       "3339                    SBSP  15/07/2024 08:15  2024-07-15 08:16:00   \n",
       "\n",
       "      SIGLA AEROPORTO DESTINO  ... CIAD DEST      NOME DEST  MUNICIPIO DEST  \\\n",
       "5511                     SBRJ  ...    RJ0002  SANTOS DUMONT  RIO DE JANEIRO   \n",
       "338                      SBRJ  ...    RJ0002  SANTOS DUMONT  RIO DE JANEIRO   \n",
       "9793                     SBRJ  ...    RJ0002  SANTOS DUMONT  RIO DE JANEIRO   \n",
       "11679                    SBRJ  ...    RJ0002  SANTOS DUMONT  RIO DE JANEIRO   \n",
       "3339                     SBRJ  ...    RJ0002  SANTOS DUMONT  RIO DE JANEIRO   \n",
       "\n",
       "      UF DEST LATITUDE DEST LONGITUDE DEST DISTANCIA KM HORA PARTIDA REAL  \\\n",
       "5511       RJ        -22.91       -43.1625   365.667493          13:18:00   \n",
       "338        RJ        -22.91       -43.1625   365.667493          08:47:00   \n",
       "9793       RJ        -22.91       -43.1625   365.667493          10:05:00   \n",
       "11679      RJ        -22.91       -43.1625   365.667493          09:16:00   \n",
       "3339       RJ        -22.91       -43.1625   365.667493          08:16:00   \n",
       "\n",
       "      CLUSTER_HORA           AQO  \n",
       "5511           7.0  52656.118920  \n",
       "338            5.0  43148.764115  \n",
       "9793           6.0  68014.153605  \n",
       "11679          5.0  68014.153605  \n",
       "3339           5.0  52656.118920  \n",
       "\n",
       "[5 rows x 35 columns]"
      ]
     },
     "execution_count": 10,
     "metadata": {},
     "output_type": "execute_result"
    }
   ],
   "source": [
    "df_voos.sample(5)"
   ]
  },
  {
   "cell_type": "code",
   "execution_count": 11,
   "id": "df0e62b4",
   "metadata": {},
   "outputs": [
    {
     "name": "stdout",
     "output_type": "stream",
     "text": [
      "<class 'pandas.core.frame.DataFrame'>\n",
      "RangeIndex: 12693 entries, 0 to 12692\n",
      "Data columns (total 35 columns):\n",
      " #   Column                   Non-Null Count  Dtype  \n",
      "---  ------                   --------------  -----  \n",
      " 0   EMPRESA AEREA            12693 non-null  object \n",
      " 1   NUMERO VOO               12693 non-null  object \n",
      " 2   CODIGO DI                12693 non-null  int64  \n",
      " 3   CODIGO TIPO LINHA        12693 non-null  object \n",
      " 4   MODELO EQUIPAMENTO       12693 non-null  object \n",
      " 5   NUMERO DE ASSENTOS       12693 non-null  float64\n",
      " 6   SIGLA AEROPORTO ORIGEM   12693 non-null  object \n",
      " 7   PARTIDA PREVISTA         12693 non-null  object \n",
      " 8   PARTIDA REAL             12683 non-null  object \n",
      " 9   SIGLA AEROPORTO DESTINO  12693 non-null  object \n",
      " 10  CHEGADA PREVISTA         12693 non-null  object \n",
      " 11  CHEGADA REAL             12693 non-null  object \n",
      " 12  SITUACAO VOO             12693 non-null  object \n",
      " 13  JUSTIFICATIVA            12693 non-null  object \n",
      " 14  REFERENCIA               12693 non-null  object \n",
      " 15  SITUACAO PARTIDA         12693 non-null  object \n",
      " 16  SITUACAO CHEGADA         12693 non-null  object \n",
      " 17  CODIGO OACI_x            12693 non-null  object \n",
      " 18  CIAD ORIG                12693 non-null  object \n",
      " 19  NOME ORIG                12693 non-null  object \n",
      " 20  MUNICIPIO ORIG           12693 non-null  object \n",
      " 21  UF ORIG                  12693 non-null  object \n",
      " 22  LATITUDE ORIG            12693 non-null  float64\n",
      " 23  LONGITUDE ORIG           12693 non-null  float64\n",
      " 24  CODIGO OACI_y            12693 non-null  object \n",
      " 25  CIAD DEST                12693 non-null  object \n",
      " 26  NOME DEST                12693 non-null  object \n",
      " 27  MUNICIPIO DEST           12693 non-null  object \n",
      " 28  UF DEST                  12693 non-null  object \n",
      " 29  LATITUDE DEST            12693 non-null  float64\n",
      " 30  LONGITUDE DEST           12693 non-null  float64\n",
      " 31  DISTANCIA KM             12693 non-null  float64\n",
      " 32  HORA PARTIDA REAL        12683 non-null  object \n",
      " 33  CLUSTER_HORA             12683 non-null  float64\n",
      " 34  AQO                      12693 non-null  float64\n",
      "dtypes: float64(8), int64(1), object(26)\n",
      "memory usage: 3.4+ MB\n"
     ]
    }
   ],
   "source": [
    "df_voos.info()"
   ]
  },
  {
   "cell_type": "code",
   "execution_count": 12,
   "id": "e7373114",
   "metadata": {},
   "outputs": [
    {
     "data": {
      "text/plain": [
       "(12693, 35)"
      ]
     },
     "execution_count": 12,
     "metadata": {},
     "output_type": "execute_result"
    }
   ],
   "source": [
    "df_voos.shape"
   ]
  },
  {
   "cell_type": "code",
   "execution_count": 13,
   "id": "9148d4ea",
   "metadata": {},
   "outputs": [
    {
     "data": {
      "application/vnd.microsoft.datawrangler.viewer.v0+json": {
       "columns": [
        {
         "name": "index",
         "rawType": "object",
         "type": "string"
        },
        {
         "name": "0",
         "rawType": "object",
         "type": "unknown"
        }
       ],
       "ref": "db3cc4e8-ac87-409e-9f31-80d21bfe804c",
       "rows": [
        [
         "EMPRESA AEREA",
         "object"
        ],
        [
         "NUMERO VOO",
         "object"
        ],
        [
         "CODIGO DI",
         "int64"
        ],
        [
         "CODIGO TIPO LINHA",
         "object"
        ],
        [
         "MODELO EQUIPAMENTO",
         "object"
        ],
        [
         "NUMERO DE ASSENTOS",
         "float64"
        ],
        [
         "SIGLA AEROPORTO ORIGEM",
         "object"
        ],
        [
         "PARTIDA PREVISTA",
         "object"
        ],
        [
         "PARTIDA REAL",
         "object"
        ],
        [
         "SIGLA AEROPORTO DESTINO",
         "object"
        ],
        [
         "CHEGADA PREVISTA",
         "object"
        ],
        [
         "CHEGADA REAL",
         "object"
        ],
        [
         "SITUACAO VOO",
         "object"
        ],
        [
         "JUSTIFICATIVA",
         "object"
        ],
        [
         "REFERENCIA",
         "object"
        ],
        [
         "SITUACAO PARTIDA",
         "object"
        ],
        [
         "SITUACAO CHEGADA",
         "object"
        ],
        [
         "CODIGO OACI_x",
         "object"
        ],
        [
         "CIAD ORIG",
         "object"
        ],
        [
         "NOME ORIG",
         "object"
        ],
        [
         "MUNICIPIO ORIG",
         "object"
        ],
        [
         "UF ORIG",
         "object"
        ],
        [
         "LATITUDE ORIG",
         "float64"
        ],
        [
         "LONGITUDE ORIG",
         "float64"
        ],
        [
         "CODIGO OACI_y",
         "object"
        ],
        [
         "CIAD DEST",
         "object"
        ],
        [
         "NOME DEST",
         "object"
        ],
        [
         "MUNICIPIO DEST",
         "object"
        ],
        [
         "UF DEST",
         "object"
        ],
        [
         "LATITUDE DEST",
         "float64"
        ],
        [
         "LONGITUDE DEST",
         "float64"
        ],
        [
         "DISTANCIA KM",
         "float64"
        ],
        [
         "HORA PARTIDA REAL",
         "object"
        ],
        [
         "CLUSTER_HORA",
         "float64"
        ],
        [
         "AQO",
         "float64"
        ]
       ],
       "shape": {
        "columns": 1,
        "rows": 35
       }
      },
      "text/plain": [
       "EMPRESA AEREA               object\n",
       "NUMERO VOO                  object\n",
       "CODIGO DI                    int64\n",
       "CODIGO TIPO LINHA           object\n",
       "MODELO EQUIPAMENTO          object\n",
       "NUMERO DE ASSENTOS         float64\n",
       "SIGLA AEROPORTO ORIGEM      object\n",
       "PARTIDA PREVISTA            object\n",
       "PARTIDA REAL                object\n",
       "SIGLA AEROPORTO DESTINO     object\n",
       "CHEGADA PREVISTA            object\n",
       "CHEGADA REAL                object\n",
       "SITUACAO VOO                object\n",
       "JUSTIFICATIVA               object\n",
       "REFERENCIA                  object\n",
       "SITUACAO PARTIDA            object\n",
       "SITUACAO CHEGADA            object\n",
       "CODIGO OACI_x               object\n",
       "CIAD ORIG                   object\n",
       "NOME ORIG                   object\n",
       "MUNICIPIO ORIG              object\n",
       "UF ORIG                     object\n",
       "LATITUDE ORIG              float64\n",
       "LONGITUDE ORIG             float64\n",
       "CODIGO OACI_y               object\n",
       "CIAD DEST                   object\n",
       "NOME DEST                   object\n",
       "MUNICIPIO DEST              object\n",
       "UF DEST                     object\n",
       "LATITUDE DEST              float64\n",
       "LONGITUDE DEST             float64\n",
       "DISTANCIA KM               float64\n",
       "HORA PARTIDA REAL           object\n",
       "CLUSTER_HORA               float64\n",
       "AQO                        float64\n",
       "dtype: object"
      ]
     },
     "execution_count": 13,
     "metadata": {},
     "output_type": "execute_result"
    }
   ],
   "source": [
    "df_voos.dtypes"
   ]
  },
  {
   "cell_type": "code",
   "execution_count": 14,
   "id": "8888d184",
   "metadata": {},
   "outputs": [
    {
     "data": {
      "application/vnd.microsoft.datawrangler.viewer.v0+json": {
       "columns": [
        {
         "name": "index",
         "rawType": "object",
         "type": "string"
        },
        {
         "name": "CODIGO DI",
         "rawType": "float64",
         "type": "float"
        },
        {
         "name": "NUMERO DE ASSENTOS",
         "rawType": "float64",
         "type": "float"
        },
        {
         "name": "LATITUDE ORIG",
         "rawType": "float64",
         "type": "float"
        },
        {
         "name": "LONGITUDE ORIG",
         "rawType": "float64",
         "type": "float"
        },
        {
         "name": "LATITUDE DEST",
         "rawType": "float64",
         "type": "float"
        },
        {
         "name": "LONGITUDE DEST",
         "rawType": "float64",
         "type": "float"
        },
        {
         "name": "DISTANCIA KM",
         "rawType": "float64",
         "type": "float"
        },
        {
         "name": "CLUSTER_HORA",
         "rawType": "float64",
         "type": "float"
        },
        {
         "name": "AQO",
         "rawType": "float64",
         "type": "float"
        }
       ],
       "ref": "f055a00b-f44a-4f47-bdf7-28e035e5df9a",
       "rows": [
        [
         "count",
         "12693.0",
         "12693.0",
         "12693.0",
         "12693.0",
         "12693.0",
         "12693.0",
         "12693.0",
         "12683.0",
         "12693.0"
        ],
        [
         "mean",
         "0.0",
         "140.5409280705901",
         "-23.626111111111115",
         "-46.65638888888887",
         "-22.910837469471364",
         "-43.18635415846006",
         "363.28403011570276",
         "7.474966490577939",
         "51313.69371419024"
        ],
        [
         "std",
         "0.0",
         "48.57761730386256",
         "3.552853634824066e-15",
         "7.105707269648132e-15",
         "0.03380037788527666",
         "0.061173044344229786",
         "6.496950781199151",
         "2.3296191117569647",
         "17777.100364197977"
        ],
        [
         "min",
         "0.0",
         "9.0",
         "-23.62611111111111",
         "-46.65638888888888",
         "-22.9875",
         "-43.37",
         "343.0309146717754",
         "3.0",
         "3087.2782320459787"
        ],
        [
         "25%",
         "0.0",
         "118.0",
         "-23.62611111111111",
         "-46.65638888888888",
         "-22.91",
         "-43.1625",
         "365.667492501412",
         "5.0",
         "43148.76411516662"
        ],
        [
         "50%",
         "0.0",
         "144.0",
         "-23.62611111111111",
         "-46.65638888888888",
         "-22.91",
         "-43.1625",
         "365.667492501412",
         "8.0",
         "52656.118920203335"
        ],
        [
         "75%",
         "0.0",
         "186.0",
         "-23.62611111111111",
         "-46.65638888888888",
         "-22.91",
         "-43.1625",
         "365.667492501412",
         "10.0",
         "68014.15360526263"
        ],
        [
         "max",
         "0.0",
         "186.0",
         "-23.62611111111111",
         "-46.65638888888888",
         "-22.81",
         "-43.1625",
         "365.667492501412",
         "12.0",
         "68014.15360526263"
        ]
       ],
       "shape": {
        "columns": 9,
        "rows": 8
       }
      },
      "text/html": [
       "<div>\n",
       "<style scoped>\n",
       "    .dataframe tbody tr th:only-of-type {\n",
       "        vertical-align: middle;\n",
       "    }\n",
       "\n",
       "    .dataframe tbody tr th {\n",
       "        vertical-align: top;\n",
       "    }\n",
       "\n",
       "    .dataframe thead th {\n",
       "        text-align: right;\n",
       "    }\n",
       "</style>\n",
       "<table border=\"1\" class=\"dataframe\">\n",
       "  <thead>\n",
       "    <tr style=\"text-align: right;\">\n",
       "      <th></th>\n",
       "      <th>CODIGO DI</th>\n",
       "      <th>NUMERO DE ASSENTOS</th>\n",
       "      <th>LATITUDE ORIG</th>\n",
       "      <th>LONGITUDE ORIG</th>\n",
       "      <th>LATITUDE DEST</th>\n",
       "      <th>LONGITUDE DEST</th>\n",
       "      <th>DISTANCIA KM</th>\n",
       "      <th>CLUSTER_HORA</th>\n",
       "      <th>AQO</th>\n",
       "    </tr>\n",
       "  </thead>\n",
       "  <tbody>\n",
       "    <tr>\n",
       "      <th>count</th>\n",
       "      <td>12693.0</td>\n",
       "      <td>12693.000000</td>\n",
       "      <td>1.269300e+04</td>\n",
       "      <td>1.269300e+04</td>\n",
       "      <td>12693.000000</td>\n",
       "      <td>12693.000000</td>\n",
       "      <td>12693.000000</td>\n",
       "      <td>12683.000000</td>\n",
       "      <td>12693.000000</td>\n",
       "    </tr>\n",
       "    <tr>\n",
       "      <th>mean</th>\n",
       "      <td>0.0</td>\n",
       "      <td>140.540928</td>\n",
       "      <td>-2.362611e+01</td>\n",
       "      <td>-4.665639e+01</td>\n",
       "      <td>-22.910837</td>\n",
       "      <td>-43.186354</td>\n",
       "      <td>363.284030</td>\n",
       "      <td>7.474966</td>\n",
       "      <td>51313.693714</td>\n",
       "    </tr>\n",
       "    <tr>\n",
       "      <th>std</th>\n",
       "      <td>0.0</td>\n",
       "      <td>48.577617</td>\n",
       "      <td>3.552854e-15</td>\n",
       "      <td>7.105707e-15</td>\n",
       "      <td>0.033800</td>\n",
       "      <td>0.061173</td>\n",
       "      <td>6.496951</td>\n",
       "      <td>2.329619</td>\n",
       "      <td>17777.100364</td>\n",
       "    </tr>\n",
       "    <tr>\n",
       "      <th>min</th>\n",
       "      <td>0.0</td>\n",
       "      <td>9.000000</td>\n",
       "      <td>-2.362611e+01</td>\n",
       "      <td>-4.665639e+01</td>\n",
       "      <td>-22.987500</td>\n",
       "      <td>-43.370000</td>\n",
       "      <td>343.030915</td>\n",
       "      <td>3.000000</td>\n",
       "      <td>3087.278232</td>\n",
       "    </tr>\n",
       "    <tr>\n",
       "      <th>25%</th>\n",
       "      <td>0.0</td>\n",
       "      <td>118.000000</td>\n",
       "      <td>-2.362611e+01</td>\n",
       "      <td>-4.665639e+01</td>\n",
       "      <td>-22.910000</td>\n",
       "      <td>-43.162500</td>\n",
       "      <td>365.667493</td>\n",
       "      <td>5.000000</td>\n",
       "      <td>43148.764115</td>\n",
       "    </tr>\n",
       "    <tr>\n",
       "      <th>50%</th>\n",
       "      <td>0.0</td>\n",
       "      <td>144.000000</td>\n",
       "      <td>-2.362611e+01</td>\n",
       "      <td>-4.665639e+01</td>\n",
       "      <td>-22.910000</td>\n",
       "      <td>-43.162500</td>\n",
       "      <td>365.667493</td>\n",
       "      <td>8.000000</td>\n",
       "      <td>52656.118920</td>\n",
       "    </tr>\n",
       "    <tr>\n",
       "      <th>75%</th>\n",
       "      <td>0.0</td>\n",
       "      <td>186.000000</td>\n",
       "      <td>-2.362611e+01</td>\n",
       "      <td>-4.665639e+01</td>\n",
       "      <td>-22.910000</td>\n",
       "      <td>-43.162500</td>\n",
       "      <td>365.667493</td>\n",
       "      <td>10.000000</td>\n",
       "      <td>68014.153605</td>\n",
       "    </tr>\n",
       "    <tr>\n",
       "      <th>max</th>\n",
       "      <td>0.0</td>\n",
       "      <td>186.000000</td>\n",
       "      <td>-2.362611e+01</td>\n",
       "      <td>-4.665639e+01</td>\n",
       "      <td>-22.810000</td>\n",
       "      <td>-43.162500</td>\n",
       "      <td>365.667493</td>\n",
       "      <td>12.000000</td>\n",
       "      <td>68014.153605</td>\n",
       "    </tr>\n",
       "  </tbody>\n",
       "</table>\n",
       "</div>"
      ],
      "text/plain": [
       "       CODIGO DI  NUMERO DE ASSENTOS  LATITUDE ORIG  LONGITUDE ORIG  \\\n",
       "count    12693.0        12693.000000   1.269300e+04    1.269300e+04   \n",
       "mean         0.0          140.540928  -2.362611e+01   -4.665639e+01   \n",
       "std          0.0           48.577617   3.552854e-15    7.105707e-15   \n",
       "min          0.0            9.000000  -2.362611e+01   -4.665639e+01   \n",
       "25%          0.0          118.000000  -2.362611e+01   -4.665639e+01   \n",
       "50%          0.0          144.000000  -2.362611e+01   -4.665639e+01   \n",
       "75%          0.0          186.000000  -2.362611e+01   -4.665639e+01   \n",
       "max          0.0          186.000000  -2.362611e+01   -4.665639e+01   \n",
       "\n",
       "       LATITUDE DEST  LONGITUDE DEST  DISTANCIA KM  CLUSTER_HORA           AQO  \n",
       "count   12693.000000    12693.000000  12693.000000  12683.000000  12693.000000  \n",
       "mean      -22.910837      -43.186354    363.284030      7.474966  51313.693714  \n",
       "std         0.033800        0.061173      6.496951      2.329619  17777.100364  \n",
       "min       -22.987500      -43.370000    343.030915      3.000000   3087.278232  \n",
       "25%       -22.910000      -43.162500    365.667493      5.000000  43148.764115  \n",
       "50%       -22.910000      -43.162500    365.667493      8.000000  52656.118920  \n",
       "75%       -22.910000      -43.162500    365.667493     10.000000  68014.153605  \n",
       "max       -22.810000      -43.162500    365.667493     12.000000  68014.153605  "
      ]
     },
     "execution_count": 14,
     "metadata": {},
     "output_type": "execute_result"
    }
   ],
   "source": [
    "df_voos.describe()"
   ]
  },
  {
   "cell_type": "code",
   "execution_count": 15,
   "id": "ada22b26",
   "metadata": {},
   "outputs": [
    {
     "data": {
      "text/plain": [
       "8"
      ]
     },
     "execution_count": 15,
     "metadata": {},
     "output_type": "execute_result"
    }
   ],
   "source": [
    "df_voos['NUMERO DE ASSENTOS'].nunique()"
   ]
  },
  {
   "cell_type": "markdown",
   "id": "2009f3cb",
   "metadata": {},
   "source": [
    "### Graficos:\n",
    "\n",
    "- Gráfico de linha com duas linhas: eixo x horas do dia e eixo y numero de voos 1 linha latam 2 linha outras companhias\n",
    "\n",
    "- Grafico de barras + filtro: Filtro por Cluster de horario + Grafico de barras com top 5 empresas com maior disponibilidade de assentos por horario e uma sexta barra com a disponibilidade da LATAM\n",
    "\n",
    "- Matriz de correlação para identificar o que mais causou reclamações em cada mes\n",
    "\n"
   ]
  },
  {
   "cell_type": "markdown",
   "id": "229b9321",
   "metadata": {},
   "source": [
    "### Notas: \n",
    "\n",
    "- Realizar estudo para entender a importancia do tamanho do avião"
   ]
  },
  {
   "cell_type": "code",
   "execution_count": null,
   "id": "c3389ca9",
   "metadata": {},
   "outputs": [],
   "source": []
  },
  {
   "cell_type": "code",
   "execution_count": null,
   "id": "0a51623f",
   "metadata": {},
   "outputs": [],
   "source": []
  },
  {
   "cell_type": "code",
   "execution_count": null,
   "id": "3eea5b80",
   "metadata": {},
   "outputs": [],
   "source": []
  }
 ],
 "metadata": {
  "kernelspec": {
   "display_name": "Python 3",
   "language": "python",
   "name": "python3"
  },
  "language_info": {
   "codemirror_mode": {
    "name": "ipython",
    "version": 3
   },
   "file_extension": ".py",
   "mimetype": "text/x-python",
   "name": "python",
   "nbconvert_exporter": "python",
   "pygments_lexer": "ipython3",
   "version": "3.12.10"
  }
 },
 "nbformat": 4,
 "nbformat_minor": 5
}
